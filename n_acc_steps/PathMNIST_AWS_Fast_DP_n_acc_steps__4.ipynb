{
  "cells": [
    {
      "cell_type": "code",
      "execution_count": 1,
      "metadata": {
        "id": "xNlVEXvQLUa_"
      },
      "outputs": [],
      "source": [
        "import numpy as np\n",
        "import matplotlib.pyplot as plt\n",
        "import copy\n",
        "device = \"cuda\"\n",
        "import torch\n",
        "import torch.nn as nn\n",
        "import torch.nn.functional as F\n",
        "from torch.optim import Adam, SGD\n",
        "from torch.optim.lr_scheduler import ReduceLROnPlateau, CosineAnnealingLR, CosineAnnealingWarmRestarts\n",
        "import torchvision\n",
        "from sklearn.model_selection import train_test_split\n",
        "import torchvision.transforms as tt\n",
        "import torchvision.models as models\n",
        "from torchvision.datasets import CIFAR10, ImageFolder\n",
        "from torchvision.utils import make_grid\n",
        "from torch.utils.data import random_split, DataLoader, Subset, TensorDataset, Dataset\n",
        "from torch.nn.utils import vector_to_parameters, parameters_to_vector\n",
        "\n",
        "from sklearn.metrics import accuracy_score\n",
        "from sklearn.metrics import roc_auc_score\n",
        "\n",
        "import os\n",
        "import time\n",
        "import pickle\n",
        "\n",
        "from PIL import Image\n",
        "\n",
        "torch.manual_seed(0)\n",
        "np.random.seed(0)"
      ]
    },
    {
      "cell_type": "code",
      "source": [
        "from google.colab import drive\n",
        "drive.mount('/content/drive')"
      ],
      "metadata": {
        "colab": {
          "base_uri": "https://localhost:8080/"
        },
        "id": "ioVVWygyK9TO",
        "outputId": "6a373d03-a466-45a0-aa0a-0e506ca87255"
      },
      "execution_count": 2,
      "outputs": [
        {
          "output_type": "stream",
          "name": "stdout",
          "text": [
            "Mounted at /content/drive\n"
          ]
        }
      ]
    },
    {
      "cell_type": "code",
      "source": [
        "!unzip fast-differential-privacy-2.1.zip"
      ],
      "metadata": {
        "colab": {
          "base_uri": "https://localhost:8080/"
        },
        "id": "qCm7_IVxPUou",
        "outputId": "ec71aa67-e6a4-4a8a-a7f8-0df2240414e9"
      },
      "execution_count": 3,
      "outputs": [
        {
          "output_type": "stream",
          "name": "stdout",
          "text": [
            "Archive:  fast-differential-privacy-2.1.zip\n",
            "   creating: fast-differential-privacy-2.1/\n",
            "  inflating: __MACOSX/._fast-differential-privacy-2.1  \n",
            "  inflating: fast-differential-privacy-2.1/CODE_OF_CONDUCT.md  \n",
            "  inflating: __MACOSX/fast-differential-privacy-2.1/._CODE_OF_CONDUCT.md  \n",
            "  inflating: fast-differential-privacy-2.1/LICENSE  \n",
            "  inflating: __MACOSX/fast-differential-privacy-2.1/._LICENSE  \n",
            "  inflating: fast-differential-privacy-2.1/requirements.txt  \n",
            "  inflating: __MACOSX/fast-differential-privacy-2.1/._requirements.txt  \n",
            "  inflating: fast-differential-privacy-2.1/README.md  \n",
            "  inflating: __MACOSX/fast-differential-privacy-2.1/._README.md  \n",
            "   creating: fast-differential-privacy-2.1/fastDP/\n",
            "  inflating: __MACOSX/fast-differential-privacy-2.1/._fastDP  \n",
            "  inflating: fast-differential-privacy-2.1/setup.py  \n",
            "  inflating: __MACOSX/fast-differential-privacy-2.1/._setup.py  \n",
            "  inflating: fast-differential-privacy-2.1/CONTRIBUTING.md  \n",
            "  inflating: __MACOSX/fast-differential-privacy-2.1/._CONTRIBUTING.md  \n",
            "   creating: fast-differential-privacy-2.1/examples/\n",
            "  inflating: __MACOSX/fast-differential-privacy-2.1/._examples  \n",
            "  inflating: fast-differential-privacy-2.1/THIRD-PARTY-NOTICES.txt  \n",
            "  inflating: __MACOSX/fast-differential-privacy-2.1/._THIRD-PARTY-NOTICES.txt  \n",
            "   creating: fast-differential-privacy-2.1/assets/\n",
            "  inflating: __MACOSX/fast-differential-privacy-2.1/._assets  \n",
            "  inflating: fast-differential-privacy-2.1/NOTICE.md  \n",
            "  inflating: __MACOSX/fast-differential-privacy-2.1/._NOTICE.md  \n",
            "  inflating: fast-differential-privacy-2.1/fastDP/autograd_grad_sample_dist.py  \n",
            "  inflating: __MACOSX/fast-differential-privacy-2.1/fastDP/._autograd_grad_sample_dist.py  \n",
            "   creating: fast-differential-privacy-2.1/fastDP/accounting/\n",
            "  inflating: __MACOSX/fast-differential-privacy-2.1/fastDP/._accounting  \n",
            "  inflating: fast-differential-privacy-2.1/fastDP/autograd_grad_sample.py  \n",
            "  inflating: __MACOSX/fast-differential-privacy-2.1/fastDP/._autograd_grad_sample.py  \n",
            "  inflating: fast-differential-privacy-2.1/fastDP/privacy_engine_dist_stage23.py  \n",
            "  inflating: __MACOSX/fast-differential-privacy-2.1/fastDP/._privacy_engine_dist_stage23.py  \n",
            "  inflating: fast-differential-privacy-2.1/fastDP/privacy_engine_dist_extending.py  \n",
            "  inflating: __MACOSX/fast-differential-privacy-2.1/fastDP/._privacy_engine_dist_extending.py  \n",
            "  inflating: fast-differential-privacy-2.1/fastDP/privacy_engine.py  \n",
            "  inflating: __MACOSX/fast-differential-privacy-2.1/fastDP/._privacy_engine.py  \n",
            "  inflating: fast-differential-privacy-2.1/fastDP/supported_layers_grad_samplers.py  \n",
            "  inflating: __MACOSX/fast-differential-privacy-2.1/fastDP/._supported_layers_grad_samplers.py  \n",
            "  inflating: fast-differential-privacy-2.1/fastDP/__init__.py  \n",
            "  inflating: __MACOSX/fast-differential-privacy-2.1/fastDP/.___init__.py  \n",
            "  inflating: fast-differential-privacy-2.1/fastDP/supported_differentially_private_layers.py  \n",
            "  inflating: __MACOSX/fast-differential-privacy-2.1/fastDP/._supported_differentially_private_layers.py  \n",
            "  inflating: fast-differential-privacy-2.1/fastDP/README.md  \n",
            "  inflating: __MACOSX/fast-differential-privacy-2.1/fastDP/._README.md  \n",
            "  inflating: fast-differential-privacy-2.1/fastDP/transformers_support.py  \n",
            "  inflating: __MACOSX/fast-differential-privacy-2.1/fastDP/._transformers_support.py  \n",
            "  inflating: fast-differential-privacy-2.1/fastDP/lora_utils.py  \n",
            "  inflating: __MACOSX/fast-differential-privacy-2.1/fastDP/._lora_utils.py  \n",
            "   creating: fast-differential-privacy-2.1/examples/table2text/\n",
            "  inflating: __MACOSX/fast-differential-privacy-2.1/examples/._table2text  \n",
            "  inflating: fast-differential-privacy-2.1/examples/requirements.txt  \n",
            "  inflating: __MACOSX/fast-differential-privacy-2.1/examples/._requirements.txt  \n",
            " extracting: fast-differential-privacy-2.1/examples/__init__.py  \n",
            "  inflating: __MACOSX/fast-differential-privacy-2.1/examples/.___init__.py  \n",
            "   creating: fast-differential-privacy-2.1/examples/text_classification/\n",
            "  inflating: __MACOSX/fast-differential-privacy-2.1/examples/._text_classification  \n",
            "   creating: fast-differential-privacy-2.1/examples/image_classification/\n",
            "  inflating: __MACOSX/fast-differential-privacy-2.1/examples/._image_classification  \n",
            "  inflating: fast-differential-privacy-2.1/assets/vision.png  \n",
            "  inflating: __MACOSX/fast-differential-privacy-2.1/assets/._vision.png  \n",
            "  inflating: fast-differential-privacy-2.1/assets/nlp.png  \n",
            "  inflating: __MACOSX/fast-differential-privacy-2.1/assets/._nlp.png  \n",
            "  inflating: fast-differential-privacy-2.1/assets/scalability.png  \n",
            "  inflating: __MACOSX/fast-differential-privacy-2.1/assets/._scalability.png  \n",
            "  inflating: fast-differential-privacy-2.1/assets/efficiency.png  \n",
            "  inflating: __MACOSX/fast-differential-privacy-2.1/assets/._efficiency.png  \n",
            "  inflating: fast-differential-privacy-2.1/fastDP/accounting/rdp_accounting.py  \n",
            "  inflating: __MACOSX/fast-differential-privacy-2.1/fastDP/accounting/._rdp_accounting.py  \n",
            " extracting: fast-differential-privacy-2.1/fastDP/accounting/__init__.py  \n",
            "  inflating: __MACOSX/fast-differential-privacy-2.1/fastDP/accounting/.___init__.py  \n",
            "  inflating: fast-differential-privacy-2.1/fastDP/accounting/accounting_manager.py  \n",
            "  inflating: __MACOSX/fast-differential-privacy-2.1/fastDP/accounting/._accounting_manager.py  \n",
            "  inflating: fast-differential-privacy-2.1/examples/table2text/misc.py  \n",
            "  inflating: __MACOSX/fast-differential-privacy-2.1/examples/table2text/._misc.py  \n",
            "  inflating: fast-differential-privacy-2.1/examples/table2text/run_language_modeling.py  \n",
            "  inflating: __MACOSX/fast-differential-privacy-2.1/examples/table2text/._run_language_modeling.py  \n",
            "  inflating: fast-differential-privacy-2.1/examples/table2text/run_ZERO23.sh  \n",
            "  inflating: __MACOSX/fast-differential-privacy-2.1/examples/table2text/._run_ZERO23.sh  \n",
            "  inflating: fast-differential-privacy-2.1/examples/table2text/models.py  \n",
            "  inflating: __MACOSX/fast-differential-privacy-2.1/examples/table2text/._models.py  \n",
            "  inflating: fast-differential-privacy-2.1/examples/table2text/run_language_modeling_extending.py  \n",
            "  inflating: __MACOSX/fast-differential-privacy-2.1/examples/table2text/._run_language_modeling_extending.py  \n",
            "  inflating: fast-differential-privacy-2.1/examples/table2text/run_language_modeling_ZERO23.py  \n",
            "  inflating: __MACOSX/fast-differential-privacy-2.1/examples/table2text/._run_language_modeling_ZERO23.py  \n",
            "   creating: fast-differential-privacy-2.1/examples/table2text/data_utils/\n",
            "  inflating: __MACOSX/fast-differential-privacy-2.1/examples/table2text/._data_utils  \n",
            " extracting: fast-differential-privacy-2.1/examples/table2text/__init__.py  \n",
            "  inflating: __MACOSX/fast-differential-privacy-2.1/examples/table2text/.___init__.py  \n",
            "  inflating: fast-differential-privacy-2.1/examples/table2text/decoding_utils.py  \n",
            "  inflating: __MACOSX/fast-differential-privacy-2.1/examples/table2text/._decoding_utils.py  \n",
            "  inflating: fast-differential-privacy-2.1/examples/table2text/run.sh  \n",
            "  inflating: __MACOSX/fast-differential-privacy-2.1/examples/table2text/._run.sh  \n",
            "  inflating: fast-differential-privacy-2.1/examples/table2text/README.md  \n",
            "  inflating: __MACOSX/fast-differential-privacy-2.1/examples/table2text/._README.md  \n",
            "  inflating: fast-differential-privacy-2.1/examples/table2text/gpt_config_stage123.json  \n",
            "  inflating: __MACOSX/fast-differential-privacy-2.1/examples/table2text/._gpt_config_stage123.json  \n",
            "  inflating: fast-differential-privacy-2.1/examples/table2text/compiled_args.py  \n",
            "  inflating: __MACOSX/fast-differential-privacy-2.1/examples/table2text/._compiled_args.py  \n",
            "  inflating: fast-differential-privacy-2.1/examples/table2text/trainer.py  \n",
            "  inflating: __MACOSX/fast-differential-privacy-2.1/examples/table2text/._trainer.py  \n",
            "  inflating: fast-differential-privacy-2.1/examples/table2text/run_ZERO_extending.py  \n",
            "  inflating: __MACOSX/fast-differential-privacy-2.1/examples/table2text/._run_ZERO_extending.py  \n",
            "  inflating: fast-differential-privacy-2.1/examples/table2text/run_ZERO1.sh  \n",
            "  inflating: __MACOSX/fast-differential-privacy-2.1/examples/table2text/._run_ZERO1.sh  \n",
            "  inflating: fast-differential-privacy-2.1/examples/text_classification/run_wrapper.py  \n",
            "  inflating: __MACOSX/fast-differential-privacy-2.1/examples/text_classification/._run_wrapper.py  \n",
            " extracting: fast-differential-privacy-2.1/examples/text_classification/__init__.py  \n",
            "  inflating: __MACOSX/fast-differential-privacy-2.1/examples/text_classification/.___init__.py  \n",
            "  inflating: fast-differential-privacy-2.1/examples/text_classification/README.md  \n",
            "  inflating: __MACOSX/fast-differential-privacy-2.1/examples/text_classification/._README.md  \n",
            "  inflating: fast-differential-privacy-2.1/examples/text_classification/run_classification.py  \n",
            "  inflating: __MACOSX/fast-differential-privacy-2.1/examples/text_classification/._run_classification.py  \n",
            "   creating: fast-differential-privacy-2.1/examples/text_classification/data/\n",
            "  inflating: __MACOSX/fast-differential-privacy-2.1/examples/text_classification/._data  \n",
            "   creating: fast-differential-privacy-2.1/examples/text_classification/src/\n",
            "  inflating: __MACOSX/fast-differential-privacy-2.1/examples/text_classification/._src  \n",
            "  inflating: fast-differential-privacy-2.1/examples/image_classification/CelebA_TIMM.py  \n",
            "  inflating: __MACOSX/fast-differential-privacy-2.1/examples/image_classification/._CelebA_TIMM.py  \n",
            "   creating: fast-differential-privacy-2.1/examples/image_classification/ZERO_examples/\n",
            "  inflating: __MACOSX/fast-differential-privacy-2.1/examples/image_classification/._ZERO_examples  \n",
            " extracting: fast-differential-privacy-2.1/examples/image_classification/__init__.py  \n",
            "  inflating: __MACOSX/fast-differential-privacy-2.1/examples/image_classification/.___init__.py  \n",
            "  inflating: fast-differential-privacy-2.1/examples/image_classification/README.md  \n",
            "  inflating: __MACOSX/fast-differential-privacy-2.1/examples/image_classification/._README.md  \n",
            "  inflating: fast-differential-privacy-2.1/examples/image_classification/CV_TIMM.py  \n",
            "  inflating: __MACOSX/fast-differential-privacy-2.1/examples/image_classification/._CV_TIMM.py  \n",
            "  inflating: fast-differential-privacy-2.1/examples/image_classification/CIFAR_TIMM.py  \n",
            "  inflating: __MACOSX/fast-differential-privacy-2.1/examples/image_classification/._CIFAR_TIMM.py  \n",
            "  inflating: fast-differential-privacy-2.1/examples/table2text/data_utils/language_modeling.py  \n",
            "  inflating: __MACOSX/fast-differential-privacy-2.1/examples/table2text/data_utils/._language_modeling.py  \n",
            " extracting: fast-differential-privacy-2.1/examples/table2text/data_utils/__init__.py  \n",
            "  inflating: __MACOSX/fast-differential-privacy-2.1/examples/table2text/data_utils/.___init__.py  \n",
            "  inflating: fast-differential-privacy-2.1/examples/table2text/data_utils/data_collator.py  \n",
            "  inflating: __MACOSX/fast-differential-privacy-2.1/examples/table2text/data_utils/._data_collator.py  \n",
            "  inflating: fast-differential-privacy-2.1/examples/text_classification/data/make_valid_data.py  \n",
            "  inflating: __MACOSX/fast-differential-privacy-2.1/examples/text_classification/data/._make_valid_data.py  \n",
            "  inflating: fast-differential-privacy-2.1/examples/text_classification/data/download_dataset.sh  \n",
            "  inflating: __MACOSX/fast-differential-privacy-2.1/examples/text_classification/data/._download_dataset.sh  \n",
            "  inflating: fast-differential-privacy-2.1/examples/text_classification/data/make_k_shot_without_dev.py  \n",
            "  inflating: __MACOSX/fast-differential-privacy-2.1/examples/text_classification/data/._make_k_shot_without_dev.py  \n",
            "  inflating: fast-differential-privacy-2.1/examples/text_classification/src/models.py  \n",
            "  inflating: __MACOSX/fast-differential-privacy-2.1/examples/text_classification/src/._models.py  \n",
            " extracting: fast-differential-privacy-2.1/examples/text_classification/src/__init__.py  \n",
            "  inflating: __MACOSX/fast-differential-privacy-2.1/examples/text_classification/src/.___init__.py  \n",
            "  inflating: fast-differential-privacy-2.1/examples/text_classification/src/dataset.py  \n",
            "  inflating: __MACOSX/fast-differential-privacy-2.1/examples/text_classification/src/._dataset.py  \n",
            "  inflating: fast-differential-privacy-2.1/examples/text_classification/src/common.py  \n",
            "  inflating: __MACOSX/fast-differential-privacy-2.1/examples/text_classification/src/._common.py  \n",
            "  inflating: fast-differential-privacy-2.1/examples/text_classification/src/label_search.py  \n",
            "  inflating: __MACOSX/fast-differential-privacy-2.1/examples/text_classification/src/._label_search.py  \n",
            "  inflating: fast-differential-privacy-2.1/examples/text_classification/src/compiled_args.py  \n",
            "  inflating: __MACOSX/fast-differential-privacy-2.1/examples/text_classification/src/._compiled_args.py  \n",
            "  inflating: fast-differential-privacy-2.1/examples/text_classification/src/trainer.py  \n",
            "  inflating: __MACOSX/fast-differential-privacy-2.1/examples/text_classification/src/._trainer.py  \n",
            "  inflating: fast-differential-privacy-2.1/examples/text_classification/src/processors.py  \n",
            "  inflating: __MACOSX/fast-differential-privacy-2.1/examples/text_classification/src/._processors.py  \n",
            "  inflating: fast-differential-privacy-2.1/examples/image_classification/ZERO_examples/cifar_config.json  \n",
            "  inflating: __MACOSX/fast-differential-privacy-2.1/examples/image_classification/ZERO_examples/._cifar_config.json  \n",
            "  inflating: fast-differential-privacy-2.1/examples/image_classification/ZERO_examples/CIFAR_TIMM_ZERO_extending.py  \n",
            "  inflating: __MACOSX/fast-differential-privacy-2.1/examples/image_classification/ZERO_examples/._CIFAR_TIMM_ZERO_extending.py  \n",
            "  inflating: fast-differential-privacy-2.1/examples/image_classification/ZERO_examples/CIFAR_TIMM_ZERO1.py  \n",
            "  inflating: __MACOSX/fast-differential-privacy-2.1/examples/image_classification/ZERO_examples/._CIFAR_TIMM_ZERO1.py  \n",
            "  inflating: fast-differential-privacy-2.1/examples/image_classification/ZERO_examples/CIFAR_TIMM_FSDP_extending.py  \n",
            "  inflating: __MACOSX/fast-differential-privacy-2.1/examples/image_classification/ZERO_examples/._CIFAR_TIMM_FSDP_extending.py  \n",
            "  inflating: fast-differential-privacy-2.1/examples/image_classification/ZERO_examples/CIFAR_TIMM_ZERO23.py  \n",
            "  inflating: __MACOSX/fast-differential-privacy-2.1/examples/image_classification/ZERO_examples/._CIFAR_TIMM_ZERO23.py  \n"
          ]
        }
      ]
    },
    {
      "cell_type": "code",
      "source": [
        "%cd fast-differential-privacy-2.1"
      ],
      "metadata": {
        "colab": {
          "base_uri": "https://localhost:8080/"
        },
        "id": "LG3OSjtQPZMa",
        "outputId": "135f83d5-b65e-45ab-f591-9425e872b793"
      },
      "execution_count": 4,
      "outputs": [
        {
          "output_type": "stream",
          "name": "stdout",
          "text": [
            "/content/fast-differential-privacy-2.1\n"
          ]
        }
      ]
    },
    {
      "cell_type": "code",
      "source": [
        "!python -m setup develop"
      ],
      "metadata": {
        "colab": {
          "base_uri": "https://localhost:8080/"
        },
        "id": "5SKSYdV9Plhb",
        "outputId": "910554ff-f11c-47ca-9427-fac19eb74d27"
      },
      "execution_count": 5,
      "outputs": [
        {
          "output_type": "stream",
          "name": "stdout",
          "text": [
            "/content/fast-differential-privacy-2.1\n",
            "running develop\n",
            "/usr/local/lib/python3.10/dist-packages/setuptools/command/develop.py:41: EasyInstallDeprecationWarning: easy_install command is deprecated.\n",
            "!!\n",
            "\n",
            "        ********************************************************************************\n",
            "        Please avoid running ``setup.py`` and ``easy_install``.\n",
            "        Instead, use pypa/build, pypa/installer or other\n",
            "        standards-based tools.\n",
            "\n",
            "        See https://github.com/pypa/setuptools/issues/917 for details.\n",
            "        ********************************************************************************\n",
            "\n",
            "!!\n",
            "  easy_install.initialize_options(self)\n",
            "/usr/local/lib/python3.10/dist-packages/setuptools/_distutils/cmd.py:66: SetuptoolsDeprecationWarning: setup.py install is deprecated.\n",
            "!!\n",
            "\n",
            "        ********************************************************************************\n",
            "        Please avoid running ``setup.py`` directly.\n",
            "        Instead, use pypa/build, pypa/installer or other\n",
            "        standards-based tools.\n",
            "\n",
            "        See https://blog.ganssle.io/articles/2021/10/setup-py-deprecated.html for details.\n",
            "        ********************************************************************************\n",
            "\n",
            "!!\n",
            "  self.initialize_options()\n",
            "running egg_info\n",
            "creating fastDP.egg-info\n",
            "writing fastDP.egg-info/PKG-INFO\n",
            "writing dependency_links to fastDP.egg-info/dependency_links.txt\n",
            "writing top-level names to fastDP.egg-info/top_level.txt\n",
            "writing manifest file 'fastDP.egg-info/SOURCES.txt'\n",
            "reading manifest file 'fastDP.egg-info/SOURCES.txt'\n",
            "adding license file 'LICENSE'\n",
            "adding license file 'NOTICE.md'\n",
            "writing manifest file 'fastDP.egg-info/SOURCES.txt'\n",
            "running build_ext\n",
            "Creating /usr/local/lib/python3.10/dist-packages/fastDP.egg-link (link to .)\n",
            "Adding fastDP 2.0.0 to easy-install.pth file\n",
            "\n",
            "Installed /content/fast-differential-privacy-2.1\n",
            "Processing dependencies for fastDP==2.0.0\n",
            "Finished processing dependencies for fastDP==2.0.0\n"
          ]
        }
      ]
    },
    {
      "cell_type": "code",
      "execution_count": 6,
      "metadata": {
        "id": "TPJo4tZcLvik"
      },
      "outputs": [],
      "source": [
        "class PathMNIST(Dataset):\n",
        "\n",
        "    def __init__(self,\n",
        "                 split='train',\n",
        "                 transforms=None,\n",
        "                 target_transform=None,\n",
        "                 download=False):\n",
        "        ''' dataset\n",
        "        :param split: 'train', 'val' or 'test', select subset\n",
        "        :param transform: data transformation\n",
        "        :param target_transform: target transformation\n",
        "\n",
        "        '''\n",
        "\n",
        "        npz_file = np.load(\"/content/drive/MyDrive/ISPP_Folder/pathmnist.npz\")\n",
        "\n",
        "        self.split = split\n",
        "        self.transforms = transforms\n",
        "        self.transform_index = 0\n",
        "        self.target_transform = target_transform\n",
        "        #X = np.concatenate((npz_file['train_images'], npz_file['val_images']))\n",
        "        #Y = np.concatenate((npz_file['train_labels'], npz_file['val_labels']))\n",
        "        X_train = npz_file['train_images']\n",
        "        Y_train = npz_file['train_labels']\n",
        "        X_val = npz_file['val_images']\n",
        "        Y_val = npz_file['val_labels']\n",
        "        X_test = npz_file['test_images']\n",
        "        Y_test = npz_file['test_labels']\n",
        "        #print(X.shape)\n",
        "        #X_train, X_val,Y_train,Y_val = train_test_split(X,Y,test_size = 0.2, random_state =0 )\n",
        "        print(X_train.shape)\n",
        "        print(X_val.shape)\n",
        "        print(X_test.shape)\n",
        "        if self.split == 'train':  # 89996 images\n",
        "            self.img = X_train\n",
        "            self.label = Y_train\n",
        "        elif self.split == 'val':     #10004  images\n",
        "            self.img = X_val\n",
        "            self.label = Y_val\n",
        "        elif self.split == 'test':      #7180 images\n",
        "            self.img = X_test\n",
        "            self.label = Y_test\n",
        "\n",
        "\n",
        "\n",
        "    def __getitem__(self, index):\n",
        "        img, target = self.img[index], self.label[index].astype(int)[0]\n",
        "        img = Image.fromarray(np.uint8(img))\n",
        "\n",
        "        if self.transforms is not None:\n",
        "            img = self.transforms[self.transform_index](img)\n",
        "\n",
        "        if self.target_transform is not None:\n",
        "            target = self.target_transform(target)\n",
        "\n",
        "        return img, target\n",
        "\n",
        "    def __len__(self):\n",
        "        return self.img.shape[0]"
      ]
    },
    {
      "cell_type": "code",
      "execution_count": 7,
      "metadata": {
        "id": "ylilaOuVjUmX"
      },
      "outputs": [],
      "source": [
        "light_transform = tt.Compose([\n",
        "                              tt.ToTensor(),\n",
        "                              tt.Lambda(lambda x : (x - x.mean())/(x.std()))\n",
        "])"
      ]
    },
    {
      "cell_type": "code",
      "execution_count": 8,
      "metadata": {
        "colab": {
          "base_uri": "https://localhost:8080/"
        },
        "id": "dzlyWSPRjbTM",
        "outputId": "abb1a913-8ea4-4027-ce90-333e0fb711b2"
      },
      "outputs": [
        {
          "output_type": "stream",
          "name": "stdout",
          "text": [
            "(89996, 28, 28, 3)\n",
            "(10004, 28, 28, 3)\n",
            "(7180, 28, 28, 3)\n",
            "(89996, 28, 28, 3)\n",
            "(10004, 28, 28, 3)\n",
            "(7180, 28, 28, 3)\n",
            "(89996, 28, 28, 3)\n",
            "(10004, 28, 28, 3)\n",
            "(7180, 28, 28, 3)\n"
          ]
        },
        {
          "output_type": "stream",
          "name": "stderr",
          "text": [
            "/usr/local/lib/python3.10/dist-packages/torch/utils/data/dataloader.py:617: UserWarning: This DataLoader will create 4 worker processes in total. Our suggested max number of worker in current system is 2, which is smaller than what this DataLoader is going to create. Please be aware that excessive worker creation might get DataLoader running slow or even freeze, lower the worker number to avoid potential slowness/freeze if necessary.\n",
            "  warnings.warn(\n"
          ]
        }
      ],
      "source": [
        "train_ds = PathMNIST(split='train', transforms= [light_transform])\n",
        "val_ds = PathMNIST(split='val', transforms= [light_transform])\n",
        "test_ds = PathMNIST(split='test', transforms= [light_transform])\n",
        "train_dl = DataLoader(train_ds,512,shuffle = True,num_workers = 4, pin_memory = True)\n",
        "test_dl = DataLoader(test_ds,512,True,num_workers = 4, pin_memory = True)\n",
        "val_dl = DataLoader(val_ds,512,True,num_workers = 4, pin_memory = True)"
      ]
    },
    {
      "cell_type": "code",
      "source": [
        "!pip install opacus"
      ],
      "metadata": {
        "colab": {
          "base_uri": "https://localhost:8080/"
        },
        "id": "aw0633S2Qqw8",
        "outputId": "c77c01dd-a958-44ba-b613-ede6aa54ad11"
      },
      "execution_count": 9,
      "outputs": [
        {
          "output_type": "stream",
          "name": "stdout",
          "text": [
            "Collecting opacus\n",
            "  Downloading opacus-1.5.2-py3-none-any.whl.metadata (7.9 kB)\n",
            "Requirement already satisfied: numpy<2.0,>=1.15 in /usr/local/lib/python3.10/dist-packages (from opacus) (1.26.4)\n",
            "Requirement already satisfied: torch>=2.0 in /usr/local/lib/python3.10/dist-packages (from opacus) (2.5.1+cu121)\n",
            "Requirement already satisfied: scipy>=1.2 in /usr/local/lib/python3.10/dist-packages (from opacus) (1.13.1)\n",
            "Requirement already satisfied: opt-einsum>=3.3.0 in /usr/local/lib/python3.10/dist-packages (from opacus) (3.4.0)\n",
            "Requirement already satisfied: filelock in /usr/local/lib/python3.10/dist-packages (from torch>=2.0->opacus) (3.16.1)\n",
            "Requirement already satisfied: typing-extensions>=4.8.0 in /usr/local/lib/python3.10/dist-packages (from torch>=2.0->opacus) (4.12.2)\n",
            "Requirement already satisfied: networkx in /usr/local/lib/python3.10/dist-packages (from torch>=2.0->opacus) (3.4.2)\n",
            "Requirement already satisfied: jinja2 in /usr/local/lib/python3.10/dist-packages (from torch>=2.0->opacus) (3.1.5)\n",
            "Requirement already satisfied: fsspec in /usr/local/lib/python3.10/dist-packages (from torch>=2.0->opacus) (2024.10.0)\n",
            "Requirement already satisfied: sympy==1.13.1 in /usr/local/lib/python3.10/dist-packages (from torch>=2.0->opacus) (1.13.1)\n",
            "Requirement already satisfied: mpmath<1.4,>=1.1.0 in /usr/local/lib/python3.10/dist-packages (from sympy==1.13.1->torch>=2.0->opacus) (1.3.0)\n",
            "Requirement already satisfied: MarkupSafe>=2.0 in /usr/local/lib/python3.10/dist-packages (from jinja2->torch>=2.0->opacus) (3.0.2)\n",
            "Downloading opacus-1.5.2-py3-none-any.whl (239 kB)\n",
            "\u001b[2K   \u001b[90m━━━━━━━━━━━━━━━━━━━━━━━━━━━━━━━━━━━━━━━━\u001b[0m \u001b[32m239.9/239.9 kB\u001b[0m \u001b[31m5.6 MB/s\u001b[0m eta \u001b[36m0:00:00\u001b[0m\n",
            "\u001b[?25hInstalling collected packages: opacus\n",
            "Successfully installed opacus-1.5.2\n"
          ]
        }
      ]
    },
    {
      "cell_type": "code",
      "source": [
        "from fastDP import PrivacyEngine\n",
        "import torch\n",
        "import torchvision\n",
        "torch.manual_seed(2)\n",
        "import torch.nn as nn\n",
        "import torch.optim as optim\n",
        "import timm\n",
        "from opacus.validators import ModuleValidator\n",
        "from opacus.accountants.utils import get_noise_multiplier\n",
        "from tqdm import tqdm\n",
        "import warnings; warnings.filterwarnings(\"ignore\")"
      ],
      "metadata": {
        "id": "788kwcOWQh-b"
      },
      "execution_count": 28,
      "outputs": []
    },
    {
      "cell_type": "code",
      "execution_count": 29,
      "metadata": {
        "id": "WGCCUVPXMA1u"
      },
      "outputs": [],
      "source": [
        "BATCH_SIZE = 512\n",
        "device = 'cuda'\n",
        "NUM_CLASSES = 9"
      ]
    },
    {
      "cell_type": "code",
      "execution_count": 30,
      "metadata": {
        "id": "W2F-jHG8Zxxo"
      },
      "outputs": [],
      "source": [
        "import torch\n",
        "import torch.nn as nn\n",
        "\n",
        "class CustomBlock(nn.Module):\n",
        "    def __init__(self, in_channels, out_channels):\n",
        "        super(CustomBlock, self).__init__()\n",
        "        # Define conv1\n",
        "        self.conv1 = nn.Conv2d(in_channels, out_channels, kernel_size=(3, 3), stride=(2, 2), padding=(1, 1), bias=False)\n",
        "        # Define bn1 (GroupNorm with 2 groups for in_channels channels)\n",
        "       # self.gn1 = nn.GroupNorm(2, in_channels, eps=1e-05, affine=True)\n",
        "        # Define ReLU activation\n",
        "        self.relu = nn.ReLU(inplace=True)\n",
        "        # Define conv2\n",
        "        self.conv2 = nn.Conv2d(out_channels, out_channels, kernel_size=(3, 3), stride=(1, 1), padding=(1, 1), bias=False)\n",
        "        # Define bn2 (GroupNorm with 2 groups for out_channels channels)\n",
        "        self.gn2 = nn.GroupNorm(2, out_channels, eps=1e-05, affine=True)\n",
        "        # Define downsample\n",
        "        self.downsample = nn.Sequential(\n",
        "            nn.Conv2d(in_channels, out_channels, kernel_size=(1, 1), stride=(2, 2), bias=False),\n",
        "            nn.GroupNorm(32, out_channels, eps=1e-05, affine=True)\n",
        "        )\n",
        "\n",
        "    def forward(self, x):\n",
        "        # Forward pass through conv1, bn1, and relu\n",
        "        out = self.conv1(x)\n",
        "       # out = self.gn1(out)\n",
        "        out = self.relu(out)\n",
        "        # Forward pass through conv2 and bn2\n",
        "        out = self.conv2(out)\n",
        "        out = self.gn2(out)\n",
        "\n",
        "        # Downsampling path\n",
        "        residual = self.downsample(x)\n",
        "\n",
        "        # Add residual to the output\n",
        "        out += residual\n",
        "\n",
        "        out = self.conv2(out)\n",
        "        out = self.gn2(out)\n",
        "        out = self.relu(out)\n",
        "        out = self.conv2(out)\n",
        "        out = self.gn2(out)\n",
        "\n",
        "\n",
        "        return out"
      ]
    },
    {
      "cell_type": "code",
      "execution_count": 31,
      "metadata": {
        "id": "7K7T-R-MCvzd"
      },
      "outputs": [],
      "source": [
        "import torch\n",
        "import torch.nn as nn\n",
        "\n",
        "class ResNet_Part1(nn.Module):\n",
        "    def __init__(self):\n",
        "        super(ResNet_Part1, self).__init__()\n",
        "\n",
        "        self.conv1 = nn.Conv2d(3, 64, kernel_size=7, stride=2, padding=3, bias=False)\n",
        "        self.bn1 = nn.GroupNorm(32, 64)\n",
        "        self.relu = nn.ReLU(inplace=True)\n",
        "        self.maxpool = nn.MaxPool2d(kernel_size=3, stride=2, padding=1)\n",
        "\n",
        "        # Layer 1\n",
        "        self.layer1 = nn.Sequential(\n",
        "            nn.Conv2d(64, 64, kernel_size=(3,3), stride=(1,1), padding=(1,1), bias=False),\n",
        "            nn.GroupNorm(2, 64, eps=1e-5, affine=True),\n",
        "            nn.Conv2d(64, 64, kernel_size=(3,3), stride=(1,1), padding=(1,1), bias=False),\n",
        "            nn.GroupNorm(2, 64, eps=1e-5, affine=True),\n",
        "\n",
        "            nn.Conv2d(64, 64, kernel_size=(3,3), stride=(1,1), padding=(1,1), bias=False),\n",
        "            nn.GroupNorm(2, 64, eps=1e-5, affine=True),\n",
        "            nn.Conv2d(64, 64, kernel_size=(3,3), stride=(1,1), padding=(1,1), bias=False),\n",
        "            nn.GroupNorm(2, 64, eps=1e-5, affine=True))\n",
        "\n",
        "\n",
        "    def forward(self, x):\n",
        "        x = self.conv1(x)\n",
        "        x = self.bn1(x)\n",
        "        x = self.relu(x)\n",
        "        x = self.maxpool(x)\n",
        "\n",
        "        x = self.layer1(x)\n",
        "\n",
        "        return x\n",
        "\n"
      ]
    },
    {
      "cell_type": "code",
      "execution_count": 32,
      "metadata": {
        "id": "h8vHLC_2b2Ww"
      },
      "outputs": [],
      "source": [
        "import torch\n",
        "import torch.nn as nn\n",
        "\n",
        "class ResNet_Part2(nn.Module):\n",
        "    def __init__(self):\n",
        "        super(ResNet_Part2, self).__init__()\n",
        "\n",
        "        self.avgpool = nn.AdaptiveAvgPool2d((1, 1))\n",
        "        self.fc = nn.Linear(512, 9)\n",
        "\n",
        "    def forward(self, x):\n",
        "\n",
        "        x = self.avgpool(x)\n",
        "        x = torch.flatten(x, 1)\n",
        "        x = self.fc(x)\n",
        "\n",
        "        return x\n",
        "\n"
      ]
    },
    {
      "cell_type": "code",
      "execution_count": 33,
      "metadata": {
        "id": "wM7MtR0PcW6a"
      },
      "outputs": [],
      "source": [
        "class FullResNet(nn.Module):\n",
        "    def __init__(self, model_part1, model_layer2, model_layer3, model_layer4, model_part2):\n",
        "        super(FullResNet, self).__init__()\n",
        "        # Store each part as a submodule\n",
        "        self.model_part1 = model_part1\n",
        "        self.model_layer2 = model_layer2\n",
        "        self.model_layer3 = model_layer3\n",
        "        self.model_layer4 = model_layer4\n",
        "        self.model_part2 = model_part2\n",
        "\n",
        "    def forward(self, x):\n",
        "        # Pass the input through each part sequentially\n",
        "        x = self.model_part1(x)    # Initial ResNet layers\n",
        "        x = self.model_layer2(x)   # Custom block layer 2\n",
        "        x = self.model_layer3(x)   # Custom block layer 3\n",
        "        x = self.model_layer4(x)   # Custom block layer 4\n",
        "        x = self.model_part2(x)    # Final ResNet layers\n",
        "        return x"
      ]
    },
    {
      "cell_type": "code",
      "execution_count": 48,
      "metadata": {
        "id": "v1VZpcFnbigw"
      },
      "outputs": [],
      "source": [
        "model_part1 = ResNet_Part1()\n",
        "model_layer2 = CustomBlock(64, 128)\n",
        "model_layer3 = CustomBlock(128, 256)\n",
        "model_layer4 = CustomBlock(256, 512)\n",
        "model_part2 = ResNet_Part2()\n",
        "\n",
        "model = FullResNet(model_part1, model_layer2, model_layer3, model_layer4, model_part2)"
      ]
    },
    {
      "cell_type": "code",
      "execution_count": 49,
      "metadata": {
        "id": "1jPgza41BhWA"
      },
      "outputs": [],
      "source": [
        "model = model.to(device)"
      ]
    },
    {
      "cell_type": "code",
      "execution_count": 50,
      "metadata": {
        "id": "dUbxW8Cg4KyZ"
      },
      "outputs": [],
      "source": [
        "# for name, module in model.named_modules():\n",
        "#     print(name, module)"
      ]
    },
    {
      "cell_type": "code",
      "source": [
        "import torch\n",
        "\n",
        "def get_first_trainable_layer_params(model):\n",
        "    for name, param in model.named_parameters():\n",
        "        if param.requires_grad:\n",
        "            return name, param\n",
        "\n",
        "model = model\n",
        "name, param = get_first_trainable_layer_params(model)\n",
        "\n",
        "print(\"Name:\", name)"
      ],
      "metadata": {
        "colab": {
          "base_uri": "https://localhost:8080/"
        },
        "id": "tCrNu7OzdTjB",
        "outputId": "f5f26db7-5c66-41d7-c289-e56a05b47829"
      },
      "execution_count": 51,
      "outputs": [
        {
          "output_type": "stream",
          "name": "stdout",
          "text": [
            "Name: model_part1.conv1.weight\n"
          ]
        }
      ]
    },
    {
      "cell_type": "code",
      "execution_count": 52,
      "metadata": {
        "id": "duFjbXRh3JNs"
      },
      "outputs": [],
      "source": [
        "opt = SGD(model.parameters(),lr = 1e-3)\n",
        "criterion = nn.CrossEntropyLoss()"
      ]
    },
    {
      "cell_type": "code",
      "execution_count": 53,
      "metadata": {
        "id": "ye6BgkMDUjEI"
      },
      "outputs": [],
      "source": [
        "BATCH_SIZE = 512\n",
        "MAX_PHYSICAL_BATCH_SIZE = 128\n",
        "n_acc_steps = BATCH_SIZE // MAX_PHYSICAL_BATCH_SIZE"
      ]
    },
    {
      "cell_type": "code",
      "source": [
        "print(n_acc_steps)"
      ],
      "metadata": {
        "id": "V4BEPa4d64p2",
        "colab": {
          "base_uri": "https://localhost:8080/"
        },
        "outputId": "0fe52c3a-ef7c-4093-e4bd-e9d90073c3c9"
      },
      "execution_count": 54,
      "outputs": [
        {
          "output_type": "stream",
          "name": "stdout",
          "text": [
            "4\n"
          ]
        }
      ]
    },
    {
      "cell_type": "code",
      "execution_count": 55,
      "metadata": {
        "id": "b9yP7oHXh1xf"
      },
      "outputs": [],
      "source": [
        "sigma=get_noise_multiplier(\n",
        "                target_epsilon = 4,\n",
        "                target_delta = 1e-5,\n",
        "                sample_rate = BATCH_SIZE/len(train_ds),\n",
        "                epochs = 1,\n",
        "            )"
      ]
    },
    {
      "cell_type": "code",
      "execution_count": 56,
      "metadata": {
        "colab": {
          "base_uri": "https://localhost:8080/"
        },
        "id": "72V6KwvckrSy",
        "outputId": "98fcdcd4-cfde-4dca-cbeb-fad37542d04e"
      },
      "outputs": [
        {
          "output_type": "stream",
          "name": "stdout",
          "text": [
            "0.60272216796875\n"
          ]
        }
      ],
      "source": [
        "print(sigma)"
      ]
    },
    {
      "cell_type": "code",
      "source": [
        "privacy_engine = PrivacyEngine(\n",
        "            model,\n",
        "            batch_size=BATCH_SIZE,\n",
        "            max_grad_norm = 40,\n",
        "            sample_size=len(train_ds),\n",
        "            target_epsilon = 4,\n",
        "            target_delta = 1e-5,\n",
        "            epochs=1,\n",
        "            clipping_mode='ghost', #\"https://pytorch.org/blog/clipping-in-opacus/#:~:text=We%20introduce%20Fast%20Gradient%20Clipping,instantiating%20the%20per%2Dsample%20gradients.\"\n",
        "            clipping_style='all-layer',\n",
        "            origin_params= 'model_part1.conv1.weight',#['patch_embed.proj.bias'],\n",
        "        )"
      ],
      "metadata": {
        "colab": {
          "base_uri": "https://localhost:8080/"
        },
        "id": "ysy7ceFqTx9-",
        "outputId": "c596255a-fc97-45f4-81d6-067655b64336"
      },
      "execution_count": 57,
      "outputs": [
        {
          "output_type": "stream",
          "name": "stdout",
          "text": [
            "Using origin parameters for the ghost differentiation trick......\n",
            "Number of trainable components:  38 ; Number of trainable layers:  26\n",
            ">>>>>>>>>>>>>>>>> Applying  automatic  per-sample gradient clipping.\n",
            ">>>>>>>>>>>>>>>>> Block heads for per-sample gradient clipping are defined as: ['model_part1.conv1']\n"
          ]
        }
      ]
    },
    {
      "cell_type": "code",
      "source": [
        "privacy_engine.attach(opt)"
      ],
      "metadata": {
        "id": "ZfpqhA4yh1uO"
      },
      "execution_count": 58,
      "outputs": []
    },
    {
      "cell_type": "code",
      "execution_count": 59,
      "metadata": {
        "id": "LBddUUs5mfTE",
        "colab": {
          "base_uri": "https://localhost:8080/"
        },
        "outputId": "521a1901-8ede-45a8-b0b7-be8b14992208"
      },
      "outputs": [
        {
          "output_type": "stream",
          "name": "stderr",
          "text": [
            "\r  0%|          | 0/176 [00:00<?, ?it/s]"
          ]
        },
        {
          "output_type": "stream",
          "name": "stdout",
          "text": [
            "0\n"
          ]
        },
        {
          "output_type": "stream",
          "name": "stderr",
          "text": [
            "\r  1%|          | 1/176 [00:01<04:33,  1.57s/it]"
          ]
        },
        {
          "output_type": "stream",
          "name": "stdout",
          "text": [
            "1\n"
          ]
        },
        {
          "output_type": "stream",
          "name": "stderr",
          "text": [
            "\r  1%|          | 2/176 [00:02<02:37,  1.10it/s]"
          ]
        },
        {
          "output_type": "stream",
          "name": "stdout",
          "text": [
            "2\n"
          ]
        },
        {
          "output_type": "stream",
          "name": "stderr",
          "text": [
            "\r  2%|▏         | 3/176 [00:02<01:49,  1.58it/s]"
          ]
        },
        {
          "output_type": "stream",
          "name": "stdout",
          "text": [
            "3\n"
          ]
        },
        {
          "output_type": "stream",
          "name": "stderr",
          "text": [
            "\r  2%|▏         | 4/176 [00:02<01:28,  1.95it/s]"
          ]
        },
        {
          "output_type": "stream",
          "name": "stdout",
          "text": [
            "gradient_update 3\n",
            "4\n"
          ]
        },
        {
          "output_type": "stream",
          "name": "stderr",
          "text": [
            "\r  3%|▎         | 5/176 [00:02<01:16,  2.24it/s]"
          ]
        },
        {
          "output_type": "stream",
          "name": "stdout",
          "text": [
            "5\n"
          ]
        },
        {
          "output_type": "stream",
          "name": "stderr",
          "text": [
            "\r  3%|▎         | 6/176 [00:03<01:06,  2.57it/s]"
          ]
        },
        {
          "output_type": "stream",
          "name": "stdout",
          "text": [
            "6\n"
          ]
        },
        {
          "output_type": "stream",
          "name": "stderr",
          "text": [
            "\r  4%|▍         | 7/176 [00:03<01:02,  2.68it/s]"
          ]
        },
        {
          "output_type": "stream",
          "name": "stdout",
          "text": [
            "7\n"
          ]
        },
        {
          "output_type": "stream",
          "name": "stderr",
          "text": [
            "\r  5%|▍         | 8/176 [00:03<00:57,  2.93it/s]"
          ]
        },
        {
          "output_type": "stream",
          "name": "stdout",
          "text": [
            "gradient_update 7\n",
            "8\n"
          ]
        },
        {
          "output_type": "stream",
          "name": "stderr",
          "text": [
            "\r  5%|▌         | 9/176 [00:04<00:58,  2.88it/s]"
          ]
        },
        {
          "output_type": "stream",
          "name": "stdout",
          "text": [
            "9\n"
          ]
        },
        {
          "output_type": "stream",
          "name": "stderr",
          "text": [
            "\r  6%|▌         | 10/176 [00:04<00:57,  2.86it/s]"
          ]
        },
        {
          "output_type": "stream",
          "name": "stdout",
          "text": [
            "10\n"
          ]
        },
        {
          "output_type": "stream",
          "name": "stderr",
          "text": [
            "\r  6%|▋         | 11/176 [00:04<00:58,  2.83it/s]"
          ]
        },
        {
          "output_type": "stream",
          "name": "stdout",
          "text": [
            "11\n"
          ]
        },
        {
          "output_type": "stream",
          "name": "stderr",
          "text": [
            "\r  7%|▋         | 12/176 [00:05<00:55,  2.94it/s]"
          ]
        },
        {
          "output_type": "stream",
          "name": "stdout",
          "text": [
            "gradient_update 11\n",
            "12\n"
          ]
        },
        {
          "output_type": "stream",
          "name": "stderr",
          "text": [
            "\r  7%|▋         | 13/176 [00:05<00:55,  2.96it/s]"
          ]
        },
        {
          "output_type": "stream",
          "name": "stdout",
          "text": [
            "13\n"
          ]
        },
        {
          "output_type": "stream",
          "name": "stderr",
          "text": [
            "\r  8%|▊         | 14/176 [00:05<00:55,  2.92it/s]"
          ]
        },
        {
          "output_type": "stream",
          "name": "stdout",
          "text": [
            "14\n"
          ]
        },
        {
          "output_type": "stream",
          "name": "stderr",
          "text": [
            "\r  9%|▊         | 15/176 [00:06<00:55,  2.91it/s]"
          ]
        },
        {
          "output_type": "stream",
          "name": "stdout",
          "text": [
            "15\n"
          ]
        },
        {
          "output_type": "stream",
          "name": "stderr",
          "text": [
            "\r  9%|▉         | 16/176 [00:06<00:55,  2.87it/s]"
          ]
        },
        {
          "output_type": "stream",
          "name": "stdout",
          "text": [
            "gradient_update 15\n",
            "16\n"
          ]
        },
        {
          "output_type": "stream",
          "name": "stderr",
          "text": [
            "\r 10%|▉         | 17/176 [00:06<00:55,  2.87it/s]"
          ]
        },
        {
          "output_type": "stream",
          "name": "stdout",
          "text": [
            "17\n"
          ]
        },
        {
          "output_type": "stream",
          "name": "stderr",
          "text": [
            "\r 10%|█         | 18/176 [00:07<00:54,  2.92it/s]"
          ]
        },
        {
          "output_type": "stream",
          "name": "stdout",
          "text": [
            "18\n"
          ]
        },
        {
          "output_type": "stream",
          "name": "stderr",
          "text": [
            "\r 11%|█         | 19/176 [00:07<00:52,  3.01it/s]"
          ]
        },
        {
          "output_type": "stream",
          "name": "stdout",
          "text": [
            "19\n"
          ]
        },
        {
          "output_type": "stream",
          "name": "stderr",
          "text": [
            "\r 11%|█▏        | 20/176 [00:07<00:47,  3.29it/s]"
          ]
        },
        {
          "output_type": "stream",
          "name": "stdout",
          "text": [
            "gradient_update 19\n",
            "20\n"
          ]
        },
        {
          "output_type": "stream",
          "name": "stderr",
          "text": [
            "\r 12%|█▏        | 21/176 [00:08<00:44,  3.51it/s]"
          ]
        },
        {
          "output_type": "stream",
          "name": "stdout",
          "text": [
            "21\n"
          ]
        },
        {
          "output_type": "stream",
          "name": "stderr",
          "text": [
            "\r 12%|█▎        | 22/176 [00:08<00:42,  3.66it/s]"
          ]
        },
        {
          "output_type": "stream",
          "name": "stdout",
          "text": [
            "22\n"
          ]
        },
        {
          "output_type": "stream",
          "name": "stderr",
          "text": [
            "\r 13%|█▎        | 23/176 [00:08<00:40,  3.79it/s]"
          ]
        },
        {
          "output_type": "stream",
          "name": "stdout",
          "text": [
            "23\n"
          ]
        },
        {
          "output_type": "stream",
          "name": "stderr",
          "text": [
            "\r 14%|█▎        | 24/176 [00:08<00:39,  3.90it/s]"
          ]
        },
        {
          "output_type": "stream",
          "name": "stdout",
          "text": [
            "gradient_update 23\n",
            "24\n"
          ]
        },
        {
          "output_type": "stream",
          "name": "stderr",
          "text": [
            "\r 14%|█▍        | 25/176 [00:09<00:37,  3.99it/s]"
          ]
        },
        {
          "output_type": "stream",
          "name": "stdout",
          "text": [
            "25\n"
          ]
        },
        {
          "output_type": "stream",
          "name": "stderr",
          "text": [
            "\r 15%|█▍        | 26/176 [00:09<00:37,  4.05it/s]"
          ]
        },
        {
          "output_type": "stream",
          "name": "stdout",
          "text": [
            "26\n"
          ]
        },
        {
          "output_type": "stream",
          "name": "stderr",
          "text": [
            "\r 15%|█▌        | 27/176 [00:09<00:36,  4.08it/s]"
          ]
        },
        {
          "output_type": "stream",
          "name": "stdout",
          "text": [
            "27\n"
          ]
        },
        {
          "output_type": "stream",
          "name": "stderr",
          "text": [
            "\r 16%|█▌        | 28/176 [00:09<00:36,  4.11it/s]"
          ]
        },
        {
          "output_type": "stream",
          "name": "stdout",
          "text": [
            "gradient_update 27\n",
            "28\n"
          ]
        },
        {
          "output_type": "stream",
          "name": "stderr",
          "text": [
            "\r 16%|█▋        | 29/176 [00:10<00:35,  4.13it/s]"
          ]
        },
        {
          "output_type": "stream",
          "name": "stdout",
          "text": [
            "29\n"
          ]
        },
        {
          "output_type": "stream",
          "name": "stderr",
          "text": [
            "\r 17%|█▋        | 30/176 [00:10<00:35,  4.12it/s]"
          ]
        },
        {
          "output_type": "stream",
          "name": "stdout",
          "text": [
            "30\n"
          ]
        },
        {
          "output_type": "stream",
          "name": "stderr",
          "text": [
            "\r 18%|█▊        | 31/176 [00:10<00:35,  4.12it/s]"
          ]
        },
        {
          "output_type": "stream",
          "name": "stdout",
          "text": [
            "31\n"
          ]
        },
        {
          "output_type": "stream",
          "name": "stderr",
          "text": [
            "\r 18%|█▊        | 32/176 [00:10<00:34,  4.16it/s]"
          ]
        },
        {
          "output_type": "stream",
          "name": "stdout",
          "text": [
            "gradient_update 31\n",
            "32\n"
          ]
        },
        {
          "output_type": "stream",
          "name": "stderr",
          "text": [
            "\r 19%|█▉        | 33/176 [00:10<00:34,  4.17it/s]"
          ]
        },
        {
          "output_type": "stream",
          "name": "stdout",
          "text": [
            "33\n"
          ]
        },
        {
          "output_type": "stream",
          "name": "stderr",
          "text": [
            "\r 19%|█▉        | 34/176 [00:11<00:34,  4.16it/s]"
          ]
        },
        {
          "output_type": "stream",
          "name": "stdout",
          "text": [
            "34\n"
          ]
        },
        {
          "output_type": "stream",
          "name": "stderr",
          "text": [
            "\r 20%|█▉        | 35/176 [00:11<00:33,  4.16it/s]"
          ]
        },
        {
          "output_type": "stream",
          "name": "stdout",
          "text": [
            "35\n"
          ]
        },
        {
          "output_type": "stream",
          "name": "stderr",
          "text": [
            "\r 20%|██        | 36/176 [00:11<00:33,  4.14it/s]"
          ]
        },
        {
          "output_type": "stream",
          "name": "stdout",
          "text": [
            "gradient_update 35\n",
            "36\n"
          ]
        },
        {
          "output_type": "stream",
          "name": "stderr",
          "text": [
            "\r 21%|██        | 37/176 [00:11<00:33,  4.14it/s]"
          ]
        },
        {
          "output_type": "stream",
          "name": "stdout",
          "text": [
            "37\n"
          ]
        },
        {
          "output_type": "stream",
          "name": "stderr",
          "text": [
            "\r 22%|██▏       | 38/176 [00:12<00:33,  4.10it/s]"
          ]
        },
        {
          "output_type": "stream",
          "name": "stdout",
          "text": [
            "38\n"
          ]
        },
        {
          "output_type": "stream",
          "name": "stderr",
          "text": [
            "\r 22%|██▏       | 39/176 [00:12<00:33,  4.13it/s]"
          ]
        },
        {
          "output_type": "stream",
          "name": "stdout",
          "text": [
            "39\n"
          ]
        },
        {
          "output_type": "stream",
          "name": "stderr",
          "text": [
            "\r 23%|██▎       | 40/176 [00:12<00:32,  4.14it/s]"
          ]
        },
        {
          "output_type": "stream",
          "name": "stdout",
          "text": [
            "gradient_update 39\n",
            "40\n"
          ]
        },
        {
          "output_type": "stream",
          "name": "stderr",
          "text": [
            "\r 23%|██▎       | 41/176 [00:12<00:32,  4.18it/s]"
          ]
        },
        {
          "output_type": "stream",
          "name": "stdout",
          "text": [
            "41\n"
          ]
        },
        {
          "output_type": "stream",
          "name": "stderr",
          "text": [
            "\r 24%|██▍       | 42/176 [00:13<00:32,  4.18it/s]"
          ]
        },
        {
          "output_type": "stream",
          "name": "stdout",
          "text": [
            "42\n"
          ]
        },
        {
          "output_type": "stream",
          "name": "stderr",
          "text": [
            "\r 24%|██▍       | 43/176 [00:13<00:32,  4.16it/s]"
          ]
        },
        {
          "output_type": "stream",
          "name": "stdout",
          "text": [
            "43\n"
          ]
        },
        {
          "output_type": "stream",
          "name": "stderr",
          "text": [
            "\r 25%|██▌       | 44/176 [00:13<00:31,  4.16it/s]"
          ]
        },
        {
          "output_type": "stream",
          "name": "stdout",
          "text": [
            "gradient_update 43\n",
            "44\n"
          ]
        },
        {
          "output_type": "stream",
          "name": "stderr",
          "text": [
            "\r 26%|██▌       | 45/176 [00:13<00:31,  4.15it/s]"
          ]
        },
        {
          "output_type": "stream",
          "name": "stdout",
          "text": [
            "45\n"
          ]
        },
        {
          "output_type": "stream",
          "name": "stderr",
          "text": [
            "\r 26%|██▌       | 46/176 [00:14<00:31,  4.16it/s]"
          ]
        },
        {
          "output_type": "stream",
          "name": "stdout",
          "text": [
            "46\n"
          ]
        },
        {
          "output_type": "stream",
          "name": "stderr",
          "text": [
            "\r 27%|██▋       | 47/176 [00:14<00:30,  4.16it/s]"
          ]
        },
        {
          "output_type": "stream",
          "name": "stdout",
          "text": [
            "47\n"
          ]
        },
        {
          "output_type": "stream",
          "name": "stderr",
          "text": [
            "\r 27%|██▋       | 48/176 [00:14<00:30,  4.15it/s]"
          ]
        },
        {
          "output_type": "stream",
          "name": "stdout",
          "text": [
            "gradient_update 47\n",
            "48\n"
          ]
        },
        {
          "output_type": "stream",
          "name": "stderr",
          "text": [
            "\r 28%|██▊       | 49/176 [00:14<00:30,  4.14it/s]"
          ]
        },
        {
          "output_type": "stream",
          "name": "stdout",
          "text": [
            "49\n"
          ]
        },
        {
          "output_type": "stream",
          "name": "stderr",
          "text": [
            "\r 28%|██▊       | 50/176 [00:15<00:30,  4.17it/s]"
          ]
        },
        {
          "output_type": "stream",
          "name": "stdout",
          "text": [
            "50\n"
          ]
        },
        {
          "output_type": "stream",
          "name": "stderr",
          "text": [
            "\r 29%|██▉       | 51/176 [00:15<00:30,  4.09it/s]"
          ]
        },
        {
          "output_type": "stream",
          "name": "stdout",
          "text": [
            "51\n"
          ]
        },
        {
          "output_type": "stream",
          "name": "stderr",
          "text": [
            "\r 30%|██▉       | 52/176 [00:15<00:30,  4.11it/s]"
          ]
        },
        {
          "output_type": "stream",
          "name": "stdout",
          "text": [
            "gradient_update 51\n",
            "52\n"
          ]
        },
        {
          "output_type": "stream",
          "name": "stderr",
          "text": [
            "\r 30%|███       | 53/176 [00:15<00:29,  4.15it/s]"
          ]
        },
        {
          "output_type": "stream",
          "name": "stdout",
          "text": [
            "53\n"
          ]
        },
        {
          "output_type": "stream",
          "name": "stderr",
          "text": [
            "\r 31%|███       | 54/176 [00:16<00:29,  4.16it/s]"
          ]
        },
        {
          "output_type": "stream",
          "name": "stdout",
          "text": [
            "54\n"
          ]
        },
        {
          "output_type": "stream",
          "name": "stderr",
          "text": [
            "\r 31%|███▏      | 55/176 [00:16<00:29,  4.11it/s]"
          ]
        },
        {
          "output_type": "stream",
          "name": "stdout",
          "text": [
            "55\n"
          ]
        },
        {
          "output_type": "stream",
          "name": "stderr",
          "text": [
            "\r 32%|███▏      | 56/176 [00:16<00:29,  4.13it/s]"
          ]
        },
        {
          "output_type": "stream",
          "name": "stdout",
          "text": [
            "gradient_update 55\n",
            "56\n"
          ]
        },
        {
          "output_type": "stream",
          "name": "stderr",
          "text": [
            "\r 32%|███▏      | 57/176 [00:16<00:28,  4.14it/s]"
          ]
        },
        {
          "output_type": "stream",
          "name": "stdout",
          "text": [
            "57\n"
          ]
        },
        {
          "output_type": "stream",
          "name": "stderr",
          "text": [
            "\r 33%|███▎      | 58/176 [00:17<00:28,  4.15it/s]"
          ]
        },
        {
          "output_type": "stream",
          "name": "stdout",
          "text": [
            "58\n"
          ]
        },
        {
          "output_type": "stream",
          "name": "stderr",
          "text": [
            "\r 34%|███▎      | 59/176 [00:17<00:28,  4.15it/s]"
          ]
        },
        {
          "output_type": "stream",
          "name": "stdout",
          "text": [
            "59\n"
          ]
        },
        {
          "output_type": "stream",
          "name": "stderr",
          "text": [
            "\r 34%|███▍      | 60/176 [00:17<00:27,  4.15it/s]"
          ]
        },
        {
          "output_type": "stream",
          "name": "stdout",
          "text": [
            "gradient_update 59\n",
            "60\n"
          ]
        },
        {
          "output_type": "stream",
          "name": "stderr",
          "text": [
            "\r 35%|███▍      | 61/176 [00:17<00:28,  4.00it/s]"
          ]
        },
        {
          "output_type": "stream",
          "name": "stdout",
          "text": [
            "61\n"
          ]
        },
        {
          "output_type": "stream",
          "name": "stderr",
          "text": [
            "\r 35%|███▌      | 62/176 [00:18<00:29,  3.85it/s]"
          ]
        },
        {
          "output_type": "stream",
          "name": "stdout",
          "text": [
            "62\n"
          ]
        },
        {
          "output_type": "stream",
          "name": "stderr",
          "text": [
            "\r 36%|███▌      | 63/176 [00:18<00:31,  3.61it/s]"
          ]
        },
        {
          "output_type": "stream",
          "name": "stdout",
          "text": [
            "63\n"
          ]
        },
        {
          "output_type": "stream",
          "name": "stderr",
          "text": [
            "\r 36%|███▋      | 64/176 [00:18<00:32,  3.46it/s]"
          ]
        },
        {
          "output_type": "stream",
          "name": "stdout",
          "text": [
            "gradient_update 63\n",
            "64\n"
          ]
        },
        {
          "output_type": "stream",
          "name": "stderr",
          "text": [
            "\r 37%|███▋      | 65/176 [00:19<00:32,  3.40it/s]"
          ]
        },
        {
          "output_type": "stream",
          "name": "stdout",
          "text": [
            "65\n"
          ]
        },
        {
          "output_type": "stream",
          "name": "stderr",
          "text": [
            "\r 38%|███▊      | 66/176 [00:19<00:33,  3.33it/s]"
          ]
        },
        {
          "output_type": "stream",
          "name": "stdout",
          "text": [
            "66\n"
          ]
        },
        {
          "output_type": "stream",
          "name": "stderr",
          "text": [
            "\r 38%|███▊      | 67/176 [00:19<00:31,  3.42it/s]"
          ]
        },
        {
          "output_type": "stream",
          "name": "stdout",
          "text": [
            "67\n"
          ]
        },
        {
          "output_type": "stream",
          "name": "stderr",
          "text": [
            "\r 39%|███▊      | 68/176 [00:19<00:33,  3.21it/s]"
          ]
        },
        {
          "output_type": "stream",
          "name": "stdout",
          "text": [
            "gradient_update 67\n",
            "68\n"
          ]
        },
        {
          "output_type": "stream",
          "name": "stderr",
          "text": [
            "\r 39%|███▉      | 69/176 [00:20<00:33,  3.18it/s]"
          ]
        },
        {
          "output_type": "stream",
          "name": "stdout",
          "text": [
            "69\n"
          ]
        },
        {
          "output_type": "stream",
          "name": "stderr",
          "text": [
            "\r 40%|███▉      | 70/176 [00:20<00:34,  3.08it/s]"
          ]
        },
        {
          "output_type": "stream",
          "name": "stdout",
          "text": [
            "70\n"
          ]
        },
        {
          "output_type": "stream",
          "name": "stderr",
          "text": [
            "\r 40%|████      | 71/176 [00:20<00:34,  3.08it/s]"
          ]
        },
        {
          "output_type": "stream",
          "name": "stdout",
          "text": [
            "71\n"
          ]
        },
        {
          "output_type": "stream",
          "name": "stderr",
          "text": [
            "\r 41%|████      | 72/176 [00:21<00:34,  3.02it/s]"
          ]
        },
        {
          "output_type": "stream",
          "name": "stdout",
          "text": [
            "gradient_update 71\n",
            "72\n"
          ]
        },
        {
          "output_type": "stream",
          "name": "stderr",
          "text": [
            "\r 41%|████▏     | 73/176 [00:21<00:34,  2.99it/s]"
          ]
        },
        {
          "output_type": "stream",
          "name": "stdout",
          "text": [
            "73\n"
          ]
        },
        {
          "output_type": "stream",
          "name": "stderr",
          "text": [
            "\r 42%|████▏     | 74/176 [00:21<00:34,  2.94it/s]"
          ]
        },
        {
          "output_type": "stream",
          "name": "stdout",
          "text": [
            "74\n"
          ]
        },
        {
          "output_type": "stream",
          "name": "stderr",
          "text": [
            "\r 43%|████▎     | 75/176 [00:22<00:34,  2.93it/s]"
          ]
        },
        {
          "output_type": "stream",
          "name": "stdout",
          "text": [
            "75\n"
          ]
        },
        {
          "output_type": "stream",
          "name": "stderr",
          "text": [
            "\r 43%|████▎     | 76/176 [00:22<00:34,  2.87it/s]"
          ]
        },
        {
          "output_type": "stream",
          "name": "stdout",
          "text": [
            "gradient_update 75\n",
            "76\n"
          ]
        },
        {
          "output_type": "stream",
          "name": "stderr",
          "text": [
            "\r 44%|████▍     | 77/176 [00:23<00:34,  2.89it/s]"
          ]
        },
        {
          "output_type": "stream",
          "name": "stdout",
          "text": [
            "77\n"
          ]
        },
        {
          "output_type": "stream",
          "name": "stderr",
          "text": [
            "\r 44%|████▍     | 78/176 [00:23<00:33,  2.89it/s]"
          ]
        },
        {
          "output_type": "stream",
          "name": "stdout",
          "text": [
            "78\n"
          ]
        },
        {
          "output_type": "stream",
          "name": "stderr",
          "text": [
            "\r 45%|████▍     | 79/176 [00:23<00:33,  2.93it/s]"
          ]
        },
        {
          "output_type": "stream",
          "name": "stdout",
          "text": [
            "79\n"
          ]
        },
        {
          "output_type": "stream",
          "name": "stderr",
          "text": [
            "\r 45%|████▌     | 80/176 [00:24<00:32,  2.93it/s]"
          ]
        },
        {
          "output_type": "stream",
          "name": "stdout",
          "text": [
            "gradient_update 79\n",
            "80\n"
          ]
        },
        {
          "output_type": "stream",
          "name": "stderr",
          "text": [
            "\r 46%|████▌     | 81/176 [00:24<00:32,  2.91it/s]"
          ]
        },
        {
          "output_type": "stream",
          "name": "stdout",
          "text": [
            "81\n"
          ]
        },
        {
          "output_type": "stream",
          "name": "stderr",
          "text": [
            "\r 47%|████▋     | 82/176 [00:24<00:32,  2.87it/s]"
          ]
        },
        {
          "output_type": "stream",
          "name": "stdout",
          "text": [
            "82\n"
          ]
        },
        {
          "output_type": "stream",
          "name": "stderr",
          "text": [
            "\r 47%|████▋     | 83/176 [00:25<00:32,  2.89it/s]"
          ]
        },
        {
          "output_type": "stream",
          "name": "stdout",
          "text": [
            "83\n"
          ]
        },
        {
          "output_type": "stream",
          "name": "stderr",
          "text": [
            "\r 48%|████▊     | 84/176 [00:25<00:32,  2.87it/s]"
          ]
        },
        {
          "output_type": "stream",
          "name": "stdout",
          "text": [
            "gradient_update 83\n",
            "84\n"
          ]
        },
        {
          "output_type": "stream",
          "name": "stderr",
          "text": [
            "\r 48%|████▊     | 85/176 [00:25<00:31,  2.86it/s]"
          ]
        },
        {
          "output_type": "stream",
          "name": "stdout",
          "text": [
            "85\n"
          ]
        },
        {
          "output_type": "stream",
          "name": "stderr",
          "text": [
            "\r 49%|████▉     | 86/176 [00:26<00:31,  2.86it/s]"
          ]
        },
        {
          "output_type": "stream",
          "name": "stdout",
          "text": [
            "86\n"
          ]
        },
        {
          "output_type": "stream",
          "name": "stderr",
          "text": [
            "\r 49%|████▉     | 87/176 [00:26<00:31,  2.85it/s]"
          ]
        },
        {
          "output_type": "stream",
          "name": "stdout",
          "text": [
            "87\n"
          ]
        },
        {
          "output_type": "stream",
          "name": "stderr",
          "text": [
            "\r 50%|█████     | 88/176 [00:26<00:31,  2.81it/s]"
          ]
        },
        {
          "output_type": "stream",
          "name": "stdout",
          "text": [
            "gradient_update 87\n",
            "88\n"
          ]
        },
        {
          "output_type": "stream",
          "name": "stderr",
          "text": [
            "\r 51%|█████     | 89/176 [00:27<00:28,  3.02it/s]"
          ]
        },
        {
          "output_type": "stream",
          "name": "stdout",
          "text": [
            "89\n"
          ]
        },
        {
          "output_type": "stream",
          "name": "stderr",
          "text": [
            "\r 51%|█████     | 90/176 [00:27<00:26,  3.29it/s]"
          ]
        },
        {
          "output_type": "stream",
          "name": "stdout",
          "text": [
            "90\n"
          ]
        },
        {
          "output_type": "stream",
          "name": "stderr",
          "text": [
            "\r 52%|█████▏    | 91/176 [00:27<00:25,  3.32it/s]"
          ]
        },
        {
          "output_type": "stream",
          "name": "stdout",
          "text": [
            "91\n"
          ]
        },
        {
          "output_type": "stream",
          "name": "stderr",
          "text": [
            "\r 52%|█████▏    | 92/176 [00:27<00:24,  3.44it/s]"
          ]
        },
        {
          "output_type": "stream",
          "name": "stdout",
          "text": [
            "gradient_update 91\n",
            "92\n"
          ]
        },
        {
          "output_type": "stream",
          "name": "stderr",
          "text": [
            "\r 53%|█████▎    | 93/176 [00:28<00:23,  3.60it/s]"
          ]
        },
        {
          "output_type": "stream",
          "name": "stdout",
          "text": [
            "93\n"
          ]
        },
        {
          "output_type": "stream",
          "name": "stderr",
          "text": [
            "\r 53%|█████▎    | 94/176 [00:28<00:21,  3.74it/s]"
          ]
        },
        {
          "output_type": "stream",
          "name": "stdout",
          "text": [
            "94\n"
          ]
        },
        {
          "output_type": "stream",
          "name": "stderr",
          "text": [
            "\r 54%|█████▍    | 95/176 [00:28<00:21,  3.84it/s]"
          ]
        },
        {
          "output_type": "stream",
          "name": "stdout",
          "text": [
            "95\n"
          ]
        },
        {
          "output_type": "stream",
          "name": "stderr",
          "text": [
            "\r 55%|█████▍    | 96/176 [00:28<00:20,  3.91it/s]"
          ]
        },
        {
          "output_type": "stream",
          "name": "stdout",
          "text": [
            "gradient_update 95\n",
            "96\n"
          ]
        },
        {
          "output_type": "stream",
          "name": "stderr",
          "text": [
            "\r 55%|█████▌    | 97/176 [00:29<00:20,  3.91it/s]"
          ]
        },
        {
          "output_type": "stream",
          "name": "stdout",
          "text": [
            "97\n"
          ]
        },
        {
          "output_type": "stream",
          "name": "stderr",
          "text": [
            "\r 56%|█████▌    | 98/176 [00:29<00:19,  3.96it/s]"
          ]
        },
        {
          "output_type": "stream",
          "name": "stdout",
          "text": [
            "98\n"
          ]
        },
        {
          "output_type": "stream",
          "name": "stderr",
          "text": [
            "\r 56%|█████▋    | 99/176 [00:29<00:19,  4.01it/s]"
          ]
        },
        {
          "output_type": "stream",
          "name": "stdout",
          "text": [
            "99\n"
          ]
        },
        {
          "output_type": "stream",
          "name": "stderr",
          "text": [
            "\r 57%|█████▋    | 100/176 [00:29<00:19,  4.00it/s]"
          ]
        },
        {
          "output_type": "stream",
          "name": "stdout",
          "text": [
            "gradient_update 99\n",
            "100\n"
          ]
        },
        {
          "output_type": "stream",
          "name": "stderr",
          "text": [
            "\r 57%|█████▋    | 101/176 [00:30<00:18,  4.01it/s]"
          ]
        },
        {
          "output_type": "stream",
          "name": "stdout",
          "text": [
            "101\n"
          ]
        },
        {
          "output_type": "stream",
          "name": "stderr",
          "text": [
            "\r 58%|█████▊    | 102/176 [00:30<00:18,  4.06it/s]"
          ]
        },
        {
          "output_type": "stream",
          "name": "stdout",
          "text": [
            "102\n"
          ]
        },
        {
          "output_type": "stream",
          "name": "stderr",
          "text": [
            "\r 59%|█████▊    | 103/176 [00:30<00:17,  4.08it/s]"
          ]
        },
        {
          "output_type": "stream",
          "name": "stdout",
          "text": [
            "103\n"
          ]
        },
        {
          "output_type": "stream",
          "name": "stderr",
          "text": [
            "\r 59%|█████▉    | 104/176 [00:30<00:17,  4.09it/s]"
          ]
        },
        {
          "output_type": "stream",
          "name": "stdout",
          "text": [
            "gradient_update 103\n",
            "104\n"
          ]
        },
        {
          "output_type": "stream",
          "name": "stderr",
          "text": [
            "\r 60%|█████▉    | 105/176 [00:31<00:17,  4.07it/s]"
          ]
        },
        {
          "output_type": "stream",
          "name": "stdout",
          "text": [
            "105\n"
          ]
        },
        {
          "output_type": "stream",
          "name": "stderr",
          "text": [
            "\r 60%|██████    | 106/176 [00:31<00:17,  4.10it/s]"
          ]
        },
        {
          "output_type": "stream",
          "name": "stdout",
          "text": [
            "106\n"
          ]
        },
        {
          "output_type": "stream",
          "name": "stderr",
          "text": [
            "\r 61%|██████    | 107/176 [00:31<00:16,  4.11it/s]"
          ]
        },
        {
          "output_type": "stream",
          "name": "stdout",
          "text": [
            "107\n"
          ]
        },
        {
          "output_type": "stream",
          "name": "stderr",
          "text": [
            "\r 61%|██████▏   | 108/176 [00:31<00:16,  4.10it/s]"
          ]
        },
        {
          "output_type": "stream",
          "name": "stdout",
          "text": [
            "gradient_update 107\n",
            "108\n"
          ]
        },
        {
          "output_type": "stream",
          "name": "stderr",
          "text": [
            "\r 62%|██████▏   | 109/176 [00:32<00:16,  4.08it/s]"
          ]
        },
        {
          "output_type": "stream",
          "name": "stdout",
          "text": [
            "109\n"
          ]
        },
        {
          "output_type": "stream",
          "name": "stderr",
          "text": [
            "\r 62%|██████▎   | 110/176 [00:32<00:16,  4.07it/s]"
          ]
        },
        {
          "output_type": "stream",
          "name": "stdout",
          "text": [
            "110\n"
          ]
        },
        {
          "output_type": "stream",
          "name": "stderr",
          "text": [
            "\r 63%|██████▎   | 111/176 [00:32<00:15,  4.08it/s]"
          ]
        },
        {
          "output_type": "stream",
          "name": "stdout",
          "text": [
            "111\n"
          ]
        },
        {
          "output_type": "stream",
          "name": "stderr",
          "text": [
            "\r 64%|██████▎   | 112/176 [00:32<00:15,  4.09it/s]"
          ]
        },
        {
          "output_type": "stream",
          "name": "stdout",
          "text": [
            "gradient_update 111\n",
            "112\n"
          ]
        },
        {
          "output_type": "stream",
          "name": "stderr",
          "text": [
            "\r 64%|██████▍   | 113/176 [00:33<00:15,  4.09it/s]"
          ]
        },
        {
          "output_type": "stream",
          "name": "stdout",
          "text": [
            "113\n"
          ]
        },
        {
          "output_type": "stream",
          "name": "stderr",
          "text": [
            "\r 65%|██████▍   | 114/176 [00:33<00:15,  4.10it/s]"
          ]
        },
        {
          "output_type": "stream",
          "name": "stdout",
          "text": [
            "114\n"
          ]
        },
        {
          "output_type": "stream",
          "name": "stderr",
          "text": [
            "\r 65%|██████▌   | 115/176 [00:33<00:14,  4.09it/s]"
          ]
        },
        {
          "output_type": "stream",
          "name": "stdout",
          "text": [
            "115\n"
          ]
        },
        {
          "output_type": "stream",
          "name": "stderr",
          "text": [
            "\r 66%|██████▌   | 116/176 [00:33<00:14,  4.10it/s]"
          ]
        },
        {
          "output_type": "stream",
          "name": "stdout",
          "text": [
            "gradient_update 115\n",
            "116\n"
          ]
        },
        {
          "output_type": "stream",
          "name": "stderr",
          "text": [
            "\r 66%|██████▋   | 117/176 [00:34<00:14,  4.10it/s]"
          ]
        },
        {
          "output_type": "stream",
          "name": "stdout",
          "text": [
            "117\n"
          ]
        },
        {
          "output_type": "stream",
          "name": "stderr",
          "text": [
            "\r 67%|██████▋   | 118/176 [00:34<00:14,  4.04it/s]"
          ]
        },
        {
          "output_type": "stream",
          "name": "stdout",
          "text": [
            "118\n"
          ]
        },
        {
          "output_type": "stream",
          "name": "stderr",
          "text": [
            "\r 68%|██████▊   | 119/176 [00:34<00:14,  4.04it/s]"
          ]
        },
        {
          "output_type": "stream",
          "name": "stdout",
          "text": [
            "119\n"
          ]
        },
        {
          "output_type": "stream",
          "name": "stderr",
          "text": [
            "\r 68%|██████▊   | 120/176 [00:34<00:13,  4.04it/s]"
          ]
        },
        {
          "output_type": "stream",
          "name": "stdout",
          "text": [
            "gradient_update 119\n",
            "120\n"
          ]
        },
        {
          "output_type": "stream",
          "name": "stderr",
          "text": [
            "\r 69%|██████▉   | 121/176 [00:35<00:13,  4.04it/s]"
          ]
        },
        {
          "output_type": "stream",
          "name": "stdout",
          "text": [
            "121\n"
          ]
        },
        {
          "output_type": "stream",
          "name": "stderr",
          "text": [
            "\r 69%|██████▉   | 122/176 [00:35<00:13,  4.06it/s]"
          ]
        },
        {
          "output_type": "stream",
          "name": "stdout",
          "text": [
            "122\n"
          ]
        },
        {
          "output_type": "stream",
          "name": "stderr",
          "text": [
            "\r 70%|██████▉   | 123/176 [00:35<00:13,  4.07it/s]"
          ]
        },
        {
          "output_type": "stream",
          "name": "stdout",
          "text": [
            "123\n"
          ]
        },
        {
          "output_type": "stream",
          "name": "stderr",
          "text": [
            "\r 70%|███████   | 124/176 [00:35<00:12,  4.06it/s]"
          ]
        },
        {
          "output_type": "stream",
          "name": "stdout",
          "text": [
            "gradient_update 123\n",
            "124\n"
          ]
        },
        {
          "output_type": "stream",
          "name": "stderr",
          "text": [
            "\r 71%|███████   | 125/176 [00:36<00:12,  4.08it/s]"
          ]
        },
        {
          "output_type": "stream",
          "name": "stdout",
          "text": [
            "125\n"
          ]
        },
        {
          "output_type": "stream",
          "name": "stderr",
          "text": [
            "\r 72%|███████▏  | 126/176 [00:36<00:12,  4.09it/s]"
          ]
        },
        {
          "output_type": "stream",
          "name": "stdout",
          "text": [
            "126\n"
          ]
        },
        {
          "output_type": "stream",
          "name": "stderr",
          "text": [
            "\r 72%|███████▏  | 127/176 [00:36<00:11,  4.10it/s]"
          ]
        },
        {
          "output_type": "stream",
          "name": "stdout",
          "text": [
            "127\n"
          ]
        },
        {
          "output_type": "stream",
          "name": "stderr",
          "text": [
            "\r 73%|███████▎  | 128/176 [00:36<00:11,  4.11it/s]"
          ]
        },
        {
          "output_type": "stream",
          "name": "stdout",
          "text": [
            "gradient_update 127\n",
            "128\n"
          ]
        },
        {
          "output_type": "stream",
          "name": "stderr",
          "text": [
            "\r 73%|███████▎  | 129/176 [00:37<00:11,  4.12it/s]"
          ]
        },
        {
          "output_type": "stream",
          "name": "stdout",
          "text": [
            "129\n"
          ]
        },
        {
          "output_type": "stream",
          "name": "stderr",
          "text": [
            "\r 74%|███████▍  | 130/176 [00:37<00:11,  3.85it/s]"
          ]
        },
        {
          "output_type": "stream",
          "name": "stdout",
          "text": [
            "130\n"
          ]
        },
        {
          "output_type": "stream",
          "name": "stderr",
          "text": [
            "\r 74%|███████▍  | 131/176 [00:37<00:11,  3.76it/s]"
          ]
        },
        {
          "output_type": "stream",
          "name": "stdout",
          "text": [
            "131\n"
          ]
        },
        {
          "output_type": "stream",
          "name": "stderr",
          "text": [
            "\r 75%|███████▌  | 132/176 [00:37<00:12,  3.49it/s]"
          ]
        },
        {
          "output_type": "stream",
          "name": "stdout",
          "text": [
            "gradient_update 131\n",
            "132\n"
          ]
        },
        {
          "output_type": "stream",
          "name": "stderr",
          "text": [
            "\r 76%|███████▌  | 133/176 [00:38<00:12,  3.47it/s]"
          ]
        },
        {
          "output_type": "stream",
          "name": "stdout",
          "text": [
            "133\n"
          ]
        },
        {
          "output_type": "stream",
          "name": "stderr",
          "text": [
            "\r 76%|███████▌  | 134/176 [00:38<00:12,  3.37it/s]"
          ]
        },
        {
          "output_type": "stream",
          "name": "stdout",
          "text": [
            "134\n"
          ]
        },
        {
          "output_type": "stream",
          "name": "stderr",
          "text": [
            "\r 77%|███████▋  | 135/176 [00:38<00:12,  3.36it/s]"
          ]
        },
        {
          "output_type": "stream",
          "name": "stdout",
          "text": [
            "135\n"
          ]
        },
        {
          "output_type": "stream",
          "name": "stderr",
          "text": [
            "\r 77%|███████▋  | 136/176 [00:39<00:11,  3.37it/s]"
          ]
        },
        {
          "output_type": "stream",
          "name": "stdout",
          "text": [
            "gradient_update 135\n",
            "136\n"
          ]
        },
        {
          "output_type": "stream",
          "name": "stderr",
          "text": [
            "\r 78%|███████▊  | 137/176 [00:39<00:11,  3.27it/s]"
          ]
        },
        {
          "output_type": "stream",
          "name": "stdout",
          "text": [
            "137\n"
          ]
        },
        {
          "output_type": "stream",
          "name": "stderr",
          "text": [
            "\r 78%|███████▊  | 138/176 [00:39<00:11,  3.29it/s]"
          ]
        },
        {
          "output_type": "stream",
          "name": "stdout",
          "text": [
            "138\n"
          ]
        },
        {
          "output_type": "stream",
          "name": "stderr",
          "text": [
            "\r 79%|███████▉  | 139/176 [00:40<00:11,  3.26it/s]"
          ]
        },
        {
          "output_type": "stream",
          "name": "stdout",
          "text": [
            "139\n"
          ]
        },
        {
          "output_type": "stream",
          "name": "stderr",
          "text": [
            "\r 80%|███████▉  | 140/176 [00:40<00:11,  3.22it/s]"
          ]
        },
        {
          "output_type": "stream",
          "name": "stdout",
          "text": [
            "gradient_update 139\n",
            "140\n"
          ]
        },
        {
          "output_type": "stream",
          "name": "stderr",
          "text": [
            "\r 80%|████████  | 141/176 [00:40<00:11,  3.17it/s]"
          ]
        },
        {
          "output_type": "stream",
          "name": "stdout",
          "text": [
            "141\n"
          ]
        },
        {
          "output_type": "stream",
          "name": "stderr",
          "text": [
            "\r 81%|████████  | 142/176 [00:41<00:10,  3.19it/s]"
          ]
        },
        {
          "output_type": "stream",
          "name": "stdout",
          "text": [
            "142\n"
          ]
        },
        {
          "output_type": "stream",
          "name": "stderr",
          "text": [
            "\r 81%|████████▏ | 143/176 [00:41<00:10,  3.13it/s]"
          ]
        },
        {
          "output_type": "stream",
          "name": "stdout",
          "text": [
            "143\n"
          ]
        },
        {
          "output_type": "stream",
          "name": "stderr",
          "text": [
            "\r 82%|████████▏ | 144/176 [00:41<00:10,  2.99it/s]"
          ]
        },
        {
          "output_type": "stream",
          "name": "stdout",
          "text": [
            "gradient_update 143\n",
            "144\n"
          ]
        },
        {
          "output_type": "stream",
          "name": "stderr",
          "text": [
            "\r 82%|████████▏ | 145/176 [00:42<00:10,  2.99it/s]"
          ]
        },
        {
          "output_type": "stream",
          "name": "stdout",
          "text": [
            "145\n"
          ]
        },
        {
          "output_type": "stream",
          "name": "stderr",
          "text": [
            "\r 83%|████████▎ | 146/176 [00:42<00:10,  2.97it/s]"
          ]
        },
        {
          "output_type": "stream",
          "name": "stdout",
          "text": [
            "146\n"
          ]
        },
        {
          "output_type": "stream",
          "name": "stderr",
          "text": [
            "\r 84%|████████▎ | 147/176 [00:42<00:09,  2.91it/s]"
          ]
        },
        {
          "output_type": "stream",
          "name": "stdout",
          "text": [
            "147\n"
          ]
        },
        {
          "output_type": "stream",
          "name": "stderr",
          "text": [
            "\r 84%|████████▍ | 148/176 [00:43<00:09,  2.89it/s]"
          ]
        },
        {
          "output_type": "stream",
          "name": "stdout",
          "text": [
            "gradient_update 147\n",
            "148\n"
          ]
        },
        {
          "output_type": "stream",
          "name": "stderr",
          "text": [
            "\r 85%|████████▍ | 149/176 [00:43<00:09,  2.87it/s]"
          ]
        },
        {
          "output_type": "stream",
          "name": "stdout",
          "text": [
            "149\n"
          ]
        },
        {
          "output_type": "stream",
          "name": "stderr",
          "text": [
            "\r 85%|████████▌ | 150/176 [00:43<00:09,  2.84it/s]"
          ]
        },
        {
          "output_type": "stream",
          "name": "stdout",
          "text": [
            "150\n"
          ]
        },
        {
          "output_type": "stream",
          "name": "stderr",
          "text": [
            "\r 86%|████████▌ | 151/176 [00:44<00:08,  2.83it/s]"
          ]
        },
        {
          "output_type": "stream",
          "name": "stdout",
          "text": [
            "151\n"
          ]
        },
        {
          "output_type": "stream",
          "name": "stderr",
          "text": [
            "\r 86%|████████▋ | 152/176 [00:44<00:08,  2.83it/s]"
          ]
        },
        {
          "output_type": "stream",
          "name": "stdout",
          "text": [
            "gradient_update 151\n",
            "152\n"
          ]
        },
        {
          "output_type": "stream",
          "name": "stderr",
          "text": [
            "\r 87%|████████▋ | 153/176 [00:44<00:07,  2.91it/s]"
          ]
        },
        {
          "output_type": "stream",
          "name": "stdout",
          "text": [
            "153\n"
          ]
        },
        {
          "output_type": "stream",
          "name": "stderr",
          "text": [
            "\r 88%|████████▊ | 154/176 [00:45<00:07,  2.85it/s]"
          ]
        },
        {
          "output_type": "stream",
          "name": "stdout",
          "text": [
            "154\n"
          ]
        },
        {
          "output_type": "stream",
          "name": "stderr",
          "text": [
            "\r 88%|████████▊ | 155/176 [00:45<00:07,  2.86it/s]"
          ]
        },
        {
          "output_type": "stream",
          "name": "stdout",
          "text": [
            "155\n"
          ]
        },
        {
          "output_type": "stream",
          "name": "stderr",
          "text": [
            "\r 89%|████████▊ | 156/176 [00:45<00:06,  2.88it/s]"
          ]
        },
        {
          "output_type": "stream",
          "name": "stdout",
          "text": [
            "gradient_update 155\n",
            "156\n"
          ]
        },
        {
          "output_type": "stream",
          "name": "stderr",
          "text": [
            "\r 89%|████████▉ | 157/176 [00:46<00:06,  3.11it/s]"
          ]
        },
        {
          "output_type": "stream",
          "name": "stdout",
          "text": [
            "157\n"
          ]
        },
        {
          "output_type": "stream",
          "name": "stderr",
          "text": [
            "\r 90%|████████▉ | 158/176 [00:46<00:05,  3.35it/s]"
          ]
        },
        {
          "output_type": "stream",
          "name": "stdout",
          "text": [
            "158\n"
          ]
        },
        {
          "output_type": "stream",
          "name": "stderr",
          "text": [
            "\r 90%|█████████ | 159/176 [00:46<00:04,  3.53it/s]"
          ]
        },
        {
          "output_type": "stream",
          "name": "stdout",
          "text": [
            "159\n"
          ]
        },
        {
          "output_type": "stream",
          "name": "stderr",
          "text": [
            "\r 91%|█████████ | 160/176 [00:46<00:04,  3.61it/s]"
          ]
        },
        {
          "output_type": "stream",
          "name": "stdout",
          "text": [
            "gradient_update 159\n",
            "160\n"
          ]
        },
        {
          "output_type": "stream",
          "name": "stderr",
          "text": [
            "\r 91%|█████████▏| 161/176 [00:47<00:04,  3.72it/s]"
          ]
        },
        {
          "output_type": "stream",
          "name": "stdout",
          "text": [
            "161\n"
          ]
        },
        {
          "output_type": "stream",
          "name": "stderr",
          "text": [
            "\r 92%|█████████▏| 162/176 [00:47<00:03,  3.79it/s]"
          ]
        },
        {
          "output_type": "stream",
          "name": "stdout",
          "text": [
            "162\n"
          ]
        },
        {
          "output_type": "stream",
          "name": "stderr",
          "text": [
            "\r 93%|█████████▎| 163/176 [00:47<00:03,  3.88it/s]"
          ]
        },
        {
          "output_type": "stream",
          "name": "stdout",
          "text": [
            "163\n"
          ]
        },
        {
          "output_type": "stream",
          "name": "stderr",
          "text": [
            "\r 93%|█████████▎| 164/176 [00:47<00:03,  3.93it/s]"
          ]
        },
        {
          "output_type": "stream",
          "name": "stdout",
          "text": [
            "gradient_update 163\n",
            "164\n"
          ]
        },
        {
          "output_type": "stream",
          "name": "stderr",
          "text": [
            "\r 94%|█████████▍| 165/176 [00:48<00:02,  3.94it/s]"
          ]
        },
        {
          "output_type": "stream",
          "name": "stdout",
          "text": [
            "165\n"
          ]
        },
        {
          "output_type": "stream",
          "name": "stderr",
          "text": [
            "\r 94%|█████████▍| 166/176 [00:48<00:02,  3.96it/s]"
          ]
        },
        {
          "output_type": "stream",
          "name": "stdout",
          "text": [
            "166\n"
          ]
        },
        {
          "output_type": "stream",
          "name": "stderr",
          "text": [
            "\r 95%|█████████▍| 167/176 [00:48<00:02,  4.00it/s]"
          ]
        },
        {
          "output_type": "stream",
          "name": "stdout",
          "text": [
            "167\n"
          ]
        },
        {
          "output_type": "stream",
          "name": "stderr",
          "text": [
            "\r 95%|█████████▌| 168/176 [00:48<00:02,  3.98it/s]"
          ]
        },
        {
          "output_type": "stream",
          "name": "stdout",
          "text": [
            "gradient_update 167\n",
            "168\n"
          ]
        },
        {
          "output_type": "stream",
          "name": "stderr",
          "text": [
            "\r 96%|█████████▌| 169/176 [00:49<00:01,  3.99it/s]"
          ]
        },
        {
          "output_type": "stream",
          "name": "stdout",
          "text": [
            "169\n"
          ]
        },
        {
          "output_type": "stream",
          "name": "stderr",
          "text": [
            "\r 97%|█████████▋| 170/176 [00:49<00:01,  4.01it/s]"
          ]
        },
        {
          "output_type": "stream",
          "name": "stdout",
          "text": [
            "170\n"
          ]
        },
        {
          "output_type": "stream",
          "name": "stderr",
          "text": [
            "\r 97%|█████████▋| 171/176 [00:49<00:01,  4.07it/s]"
          ]
        },
        {
          "output_type": "stream",
          "name": "stdout",
          "text": [
            "171\n"
          ]
        },
        {
          "output_type": "stream",
          "name": "stderr",
          "text": [
            "\r 98%|█████████▊| 172/176 [00:49<00:00,  4.04it/s]"
          ]
        },
        {
          "output_type": "stream",
          "name": "stdout",
          "text": [
            "gradient_update 171\n",
            "172\n"
          ]
        },
        {
          "output_type": "stream",
          "name": "stderr",
          "text": [
            "\r 98%|█████████▊| 173/176 [00:50<00:00,  3.99it/s]"
          ]
        },
        {
          "output_type": "stream",
          "name": "stdout",
          "text": [
            "173\n"
          ]
        },
        {
          "output_type": "stream",
          "name": "stderr",
          "text": [
            "\r 99%|█████████▉| 174/176 [00:50<00:00,  4.00it/s]"
          ]
        },
        {
          "output_type": "stream",
          "name": "stdout",
          "text": [
            "174\n"
          ]
        },
        {
          "output_type": "stream",
          "name": "stderr",
          "text": [
            "100%|██████████| 176/176 [00:50<00:00,  4.30it/s]"
          ]
        },
        {
          "output_type": "stream",
          "name": "stdout",
          "text": [
            "175\n",
            "gradient_update 175\n"
          ]
        },
        {
          "output_type": "stream",
          "name": "stderr",
          "text": [
            "\r100%|██████████| 176/176 [00:50<00:00,  3.45it/s]"
          ]
        },
        {
          "output_type": "stream",
          "name": "stdout",
          "text": [
            "Epoch:  1 176 Train Loss: 2.344 | Acc: 11.251% (10125/89996)\n",
            "{'eps_rdp': 3.3960610351956104, 'alpha_rdp': 4.0}\n"
          ]
        },
        {
          "output_type": "stream",
          "name": "stderr",
          "text": [
            "\n"
          ]
        }
      ],
      "source": [
        "def train(epoch):\n",
        "\n",
        "        model.train()\n",
        "        train_loss = 0\n",
        "        correct = 0\n",
        "        total = 0\n",
        "\n",
        "\n",
        "        for batch_idx, (inputs, targets) in enumerate(tqdm(train_dl)):\n",
        "            print(batch_idx)\n",
        "            inputs, targets = inputs.to(device), targets.to(device)\n",
        "            outputs = model(inputs)\n",
        "            loss = criterion(outputs, targets)\n",
        "\n",
        "            loss.backward()\n",
        "            if ((batch_idx + 1) % n_acc_steps == 0) or ((batch_idx + 1) == len(train_dl)):\n",
        "                print(\"gradient_update\",batch_idx)\n",
        "                opt.step()\n",
        "                opt.zero_grad()\n",
        "\n",
        "            train_loss += loss.item()\n",
        "            _, predicted = outputs.max(1)\n",
        "            total += targets.size(0)\n",
        "            correct += predicted.eq(targets).sum().item()\n",
        "\n",
        "        print('Epoch: ', epoch+1, len(train_dl), 'Train Loss: %.3f | Acc: %.3f%% (%d/%d)'\n",
        "                         % (train_loss/(batch_idx+1), 100.*correct/total, correct, total))\n",
        "        print(privacy_engine.get_privacy_spent())\n",
        "\n",
        "def test(epoch):\n",
        "        model.eval()\n",
        "        test_loss = 0\n",
        "        correct = 0\n",
        "        total = 0\n",
        "        with torch.no_grad():\n",
        "            for batch_idx, (inputs, targets) in enumerate(tqdm(test_dl)):\n",
        "                inputs, targets = inputs.to(device), targets.to(device)\n",
        "                outputs = model(inputs)\n",
        "                loss = criterion(outputs, targets)\n",
        "\n",
        "                test_loss += loss.item()\n",
        "                _, predicted = outputs.max(1)\n",
        "                total += targets.size(0)\n",
        "                correct += predicted.eq(targets).sum().item()\n",
        "\n",
        "            print('Epoch: ', epoch+1, len(test_dl), 'Test Loss: %.3f | Acc: %.3f%% (%d/%d)'\n",
        "                             % (test_loss/(batch_idx+1), 100.*correct/total, correct, total))\n",
        "\n",
        "for epoch in range(1):\n",
        "        train(epoch)"
      ]
    },
    {
      "cell_type": "code",
      "source": [
        "test(1)"
      ],
      "metadata": {
        "colab": {
          "base_uri": "https://localhost:8080/"
        },
        "id": "8kTBAOHEWBF4",
        "outputId": "e5633ba3-5033-4332-95ac-8b4d6bfc9509"
      },
      "execution_count": 60,
      "outputs": [
        {
          "output_type": "stream",
          "name": "stderr",
          "text": [
            "100%|██████████| 15/15 [00:02<00:00,  5.79it/s]"
          ]
        },
        {
          "output_type": "stream",
          "name": "stdout",
          "text": [
            "Epoch:  2 15 Test Loss: 2.383 | Acc: 7.967% (572/7180)\n"
          ]
        },
        {
          "output_type": "stream",
          "name": "stderr",
          "text": [
            "\n"
          ]
        }
      ]
    },
    {
      "cell_type": "code",
      "source": [
        "privacy_engine.get_privacy_spent()"
      ],
      "metadata": {
        "colab": {
          "base_uri": "https://localhost:8080/"
        },
        "id": "mFo9Gk09sHM-",
        "outputId": "c53af183-43fb-4e48-8f40-17c886176775"
      },
      "execution_count": 61,
      "outputs": [
        {
          "output_type": "execute_result",
          "data": {
            "text/plain": [
              "{'eps_rdp': 3.3960610351956104, 'alpha_rdp': 4.0}"
            ]
          },
          "metadata": {},
          "execution_count": 61
        }
      ]
    },
    {
      "cell_type": "code",
      "source": [
        "torch.save(model.state_dict(),\"AWS_Fast_DP_deafult.pt\")"
      ],
      "metadata": {
        "id": "qHLnZKV3sOrQ"
      },
      "execution_count": null,
      "outputs": []
    },
    {
      "cell_type": "code",
      "source": [
        "%ls"
      ],
      "metadata": {
        "colab": {
          "base_uri": "https://localhost:8080/"
        },
        "id": "UJw2t5ZpYxgn",
        "outputId": "e0ebc785-4393-4390-e9c4-03dd75556960"
      },
      "execution_count": null,
      "outputs": [
        {
          "output_type": "stream",
          "name": "stdout",
          "text": [
            "\u001b[0m\u001b[01;34massets\u001b[0m/                 \u001b[01;34mexamples\u001b[0m/         NOTICE.md         setup.py\n",
            "AWS_Fast_DP_deafult.pt  \u001b[01;34mfastDP\u001b[0m/           \u001b[01;34m__pycache__\u001b[0m/      THIRD-PARTY-NOTICES.txt\n",
            "CODE_OF_CONDUCT.md      \u001b[01;34mfastDP.egg-info\u001b[0m/  README.md\n",
            "CONTRIBUTING.md         LICENSE           requirements.txt\n"
          ]
        }
      ]
    },
    {
      "cell_type": "code",
      "source": [],
      "metadata": {
        "id": "Qho-dw9ZZlOY"
      },
      "execution_count": null,
      "outputs": []
    }
  ],
  "metadata": {
    "accelerator": "GPU",
    "colab": {
      "gpuType": "T4",
      "provenance": []
    },
    "kernelspec": {
      "display_name": "Python 3",
      "name": "python3"
    },
    "language_info": {
      "name": "python"
    }
  },
  "nbformat": 4,
  "nbformat_minor": 0
}