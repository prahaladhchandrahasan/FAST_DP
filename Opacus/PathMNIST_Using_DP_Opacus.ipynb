{
  "cells": [
    {
      "cell_type": "code",
      "execution_count": 1,
      "metadata": {
        "id": "xNlVEXvQLUa_"
      },
      "outputs": [],
      "source": [
        "import numpy as np\n",
        "import matplotlib.pyplot as plt\n",
        "import copy\n",
        "device = \"cuda\"\n",
        "import torch\n",
        "import torch.nn as nn\n",
        "import torch.nn.functional as F\n",
        "from torch.optim import Adam, SGD\n",
        "from torch.optim.lr_scheduler import ReduceLROnPlateau, CosineAnnealingLR, CosineAnnealingWarmRestarts\n",
        "import torchvision\n",
        "from sklearn.model_selection import train_test_split\n",
        "import torchvision.transforms as tt\n",
        "import torchvision.models as models\n",
        "from torchvision.datasets import CIFAR10, ImageFolder\n",
        "from torchvision.utils import make_grid\n",
        "from torch.utils.data import random_split, DataLoader, Subset, TensorDataset, Dataset\n",
        "from torch.nn.utils import vector_to_parameters, parameters_to_vector\n",
        "\n",
        "from sklearn.metrics import accuracy_score\n",
        "from sklearn.metrics import roc_auc_score\n",
        "\n",
        "import os\n",
        "import time\n",
        "import pickle\n",
        "\n",
        "from PIL import Image\n",
        "\n",
        "torch.manual_seed(0)\n",
        "np.random.seed(0)"
      ]
    },
    {
      "cell_type": "code",
      "execution_count": 2,
      "metadata": {
        "colab": {
          "base_uri": "https://localhost:8080/"
        },
        "id": "fmgCKjjsLhSq",
        "outputId": "18ff4b49-1cab-4759-ad07-d63e0aee7343"
      },
      "outputs": [
        {
          "name": "stdout",
          "output_type": "stream",
          "text": [
            "Mounted at /content/drive\n"
          ]
        }
      ],
      "source": [
        "from google.colab import drive\n",
        "\n",
        "drive.mount('/content/drive')"
      ]
    },
    {
      "cell_type": "code",
      "execution_count": 3,
      "metadata": {
        "id": "TPJo4tZcLvik"
      },
      "outputs": [],
      "source": [
        "class PathMNIST(Dataset):\n",
        "\n",
        "    def __init__(self,\n",
        "                 split='train',\n",
        "                 transforms=None,\n",
        "                 target_transform=None,\n",
        "                 download=False):\n",
        "        ''' dataset\n",
        "        :param split: 'train', 'val' or 'test', select subset\n",
        "        :param transform: data transformation\n",
        "        :param target_transform: target transformation\n",
        "\n",
        "        '''\n",
        "\n",
        "        npz_file = np.load(\"/content/drive/MyDrive/PATH\")\n",
        "\n",
        "        self.split = split\n",
        "        self.transforms = transforms\n",
        "        self.transform_index = 0\n",
        "        self.target_transform = target_transform\n",
        "        #X = np.concatenate((npz_file['train_images'], npz_file['val_images']))\n",
        "        #Y = np.concatenate((npz_file['train_labels'], npz_file['val_labels']))\n",
        "        X_train = npz_file['train_images']\n",
        "        Y_train = npz_file['train_labels']\n",
        "        X_val = npz_file['val_images']\n",
        "        Y_val = npz_file['val_labels']\n",
        "        X_test = npz_file['test_images']\n",
        "        Y_test = npz_file['test_labels']\n",
        "        #print(X.shape)\n",
        "        #X_train, X_val,Y_train,Y_val = train_test_split(X,Y,test_size = 0.2, random_state =0 )\n",
        "        print(X_train.shape)\n",
        "        print(X_val.shape)\n",
        "        print(X_test.shape)\n",
        "        if self.split == 'train':  # 89996 images\n",
        "            self.img = X_train\n",
        "            self.label = Y_train\n",
        "        elif self.split == 'val':     #10004  images\n",
        "            self.img = X_val\n",
        "            self.label = Y_val\n",
        "        elif self.split == 'test':      #7180 images\n",
        "            self.img = X_test\n",
        "            self.label = Y_test\n",
        "\n",
        "\n",
        "\n",
        "    def __getitem__(self, index):\n",
        "        img, target = self.img[index], self.label[index].astype(int)[0]\n",
        "        img = Image.fromarray(np.uint8(img))\n",
        "\n",
        "        if self.transforms is not None:\n",
        "            img = self.transforms[self.transform_index](img)\n",
        "\n",
        "        if self.target_transform is not None:\n",
        "            target = self.target_transform(target)\n",
        "\n",
        "        return img, target\n",
        "\n",
        "    def __len__(self):\n",
        "        return self.img.shape[0]"
      ]
    },
    {
      "cell_type": "code",
      "execution_count": 4,
      "metadata": {
        "id": "ylilaOuVjUmX"
      },
      "outputs": [],
      "source": [
        "light_transform = tt.Compose([\n",
        "                              tt.ToTensor(),\n",
        "                              tt.Lambda(lambda x : (x - x.mean())/(x.std()))\n",
        "])"
      ]
    },
    {
      "cell_type": "code",
      "execution_count": 5,
      "metadata": {
        "colab": {
          "base_uri": "https://localhost:8080/"
        },
        "id": "dzlyWSPRjbTM",
        "outputId": "09dba9b7-d7d2-4a73-883a-7d46a641d08d"
      },
      "outputs": [
        {
          "name": "stdout",
          "output_type": "stream",
          "text": [
            "(89996, 28, 28, 3)\n",
            "(10004, 28, 28, 3)\n",
            "(7180, 28, 28, 3)\n",
            "(89996, 28, 28, 3)\n",
            "(10004, 28, 28, 3)\n",
            "(7180, 28, 28, 3)\n",
            "(89996, 28, 28, 3)\n",
            "(10004, 28, 28, 3)\n",
            "(7180, 28, 28, 3)\n"
          ]
        },
        {
          "name": "stderr",
          "output_type": "stream",
          "text": [
            "/usr/local/lib/python3.10/dist-packages/torch/utils/data/dataloader.py:617: UserWarning: This DataLoader will create 4 worker processes in total. Our suggested max number of worker in current system is 2, which is smaller than what this DataLoader is going to create. Please be aware that excessive worker creation might get DataLoader running slow or even freeze, lower the worker number to avoid potential slowness/freeze if necessary.\n",
            "  warnings.warn(\n"
          ]
        }
      ],
      "source": [
        "train_ds = PathMNIST(split='train', transforms= [light_transform])\n",
        "val_ds = PathMNIST(split='val', transforms= [light_transform])\n",
        "test_ds = PathMNIST(split='test', transforms= [light_transform])\n",
        "train_dl = DataLoader(train_ds,512,shuffle = True,num_workers = 4, pin_memory = True)\n",
        "test_dl = DataLoader(test_ds,512,True,num_workers = 4, pin_memory = True)\n",
        "val_dl = DataLoader(val_ds,512,True,num_workers = 4, pin_memory = True)"
      ]
    },
    {
      "cell_type": "code",
      "execution_count": 6,
      "metadata": {
        "id": "WGCCUVPXMA1u"
      },
      "outputs": [],
      "source": [
        "BATCH_SIZE = 512\n",
        "device = 'cuda'\n",
        "NUM_CLASSES = 9"
      ]
    },
    {
      "cell_type": "code",
      "execution_count": 7,
      "metadata": {
        "id": "W2F-jHG8Zxxo"
      },
      "outputs": [],
      "source": [
        "import torch\n",
        "import torch.nn as nn\n",
        "\n",
        "class CustomBlock(nn.Module):\n",
        "    def __init__(self, in_channels, out_channels):\n",
        "        super(CustomBlock, self).__init__()\n",
        "        # Define conv1\n",
        "        self.conv1 = nn.Conv2d(in_channels, out_channels, kernel_size=(3, 3), stride=(2, 2), padding=(1, 1), bias=False)\n",
        "        # Define bn1 (GroupNorm with 2 groups for in_channels channels)\n",
        "       # self.gn1 = nn.GroupNorm(2, in_channels, eps=1e-05, affine=True)\n",
        "        # Define ReLU activation\n",
        "        self.relu = nn.ReLU(inplace=True)\n",
        "        # Define conv2\n",
        "        self.conv2 = nn.Conv2d(out_channels, out_channels, kernel_size=(3, 3), stride=(1, 1), padding=(1, 1), bias=False)\n",
        "        # Define bn2 (GroupNorm with 2 groups for out_channels channels)\n",
        "        self.gn2 = nn.GroupNorm(2, out_channels, eps=1e-05, affine=True)\n",
        "        # Define downsample\n",
        "        self.downsample = nn.Sequential(\n",
        "            nn.Conv2d(in_channels, out_channels, kernel_size=(1, 1), stride=(2, 2), bias=False),\n",
        "            nn.GroupNorm(32, out_channels, eps=1e-05, affine=True)\n",
        "        )\n",
        "\n",
        "    def forward(self, x):\n",
        "        # Forward pass through conv1, bn1, and relu\n",
        "        out = self.conv1(x)\n",
        "       # out = self.gn1(out)\n",
        "        out = self.relu(out)\n",
        "        # Forward pass through conv2 and bn2\n",
        "        out = self.conv2(out)\n",
        "        out = self.gn2(out)\n",
        "\n",
        "        # Downsampling path\n",
        "        residual = self.downsample(x)\n",
        "\n",
        "        # Add residual to the output\n",
        "        out += residual\n",
        "\n",
        "        out = self.conv2(out)\n",
        "        out = self.gn2(out)\n",
        "        out = self.relu(out)\n",
        "        out = self.conv2(out)\n",
        "        out = self.gn2(out)\n",
        "\n",
        "\n",
        "        return out"
      ]
    },
    {
      "cell_type": "code",
      "execution_count": 8,
      "metadata": {
        "id": "7K7T-R-MCvzd"
      },
      "outputs": [],
      "source": [
        "import torch\n",
        "import torch.nn as nn\n",
        "\n",
        "class ResNet_Part1(nn.Module):\n",
        "    def __init__(self):\n",
        "        super(ResNet_Part1, self).__init__()\n",
        "\n",
        "        self.conv1 = nn.Conv2d(3, 64, kernel_size=7, stride=2, padding=3, bias=False)\n",
        "        self.bn1 = nn.GroupNorm(32, 64)\n",
        "        self.relu = nn.ReLU(inplace=True)\n",
        "        self.maxpool = nn.MaxPool2d(kernel_size=3, stride=2, padding=1)\n",
        "\n",
        "        # Layer 1\n",
        "        self.layer1 = nn.Sequential(\n",
        "            nn.Conv2d(64, 64, kernel_size=(3,3), stride=(1,1), padding=(1,1), bias=False),\n",
        "            nn.GroupNorm(2, 64, eps=1e-5, affine=True),\n",
        "            nn.Conv2d(64, 64, kernel_size=(3,3), stride=(1,1), padding=(1,1), bias=False),\n",
        "            nn.GroupNorm(2, 64, eps=1e-5, affine=True),\n",
        "\n",
        "            nn.Conv2d(64, 64, kernel_size=(3,3), stride=(1,1), padding=(1,1), bias=False),\n",
        "            nn.GroupNorm(2, 64, eps=1e-5, affine=True),\n",
        "            nn.Conv2d(64, 64, kernel_size=(3,3), stride=(1,1), padding=(1,1), bias=False),\n",
        "            nn.GroupNorm(2, 64, eps=1e-5, affine=True))\n",
        "\n",
        "\n",
        "    def forward(self, x):\n",
        "        x = self.conv1(x)\n",
        "        x = self.bn1(x)\n",
        "        x = self.relu(x)\n",
        "        x = self.maxpool(x)\n",
        "\n",
        "        x = self.layer1(x)\n",
        "\n",
        "        return x\n",
        "\n"
      ]
    },
    {
      "cell_type": "code",
      "execution_count": 9,
      "metadata": {
        "id": "h8vHLC_2b2Ww"
      },
      "outputs": [],
      "source": [
        "import torch\n",
        "import torch.nn as nn\n",
        "\n",
        "class ResNet_Part2(nn.Module):\n",
        "    def __init__(self):\n",
        "        super(ResNet_Part2, self).__init__()\n",
        "\n",
        "        self.avgpool = nn.AdaptiveAvgPool2d((1, 1))\n",
        "        self.fc = nn.Linear(512, 9)\n",
        "\n",
        "    def forward(self, x):\n",
        "\n",
        "        x = self.avgpool(x)\n",
        "        x = torch.flatten(x, 1)\n",
        "        x = self.fc(x)\n",
        "\n",
        "        return x\n",
        "\n"
      ]
    },
    {
      "cell_type": "code",
      "execution_count": 10,
      "metadata": {
        "id": "wM7MtR0PcW6a"
      },
      "outputs": [],
      "source": [
        "class FullResNet(nn.Module):\n",
        "    def __init__(self, model_part1, model_layer2, model_layer3, model_layer4, model_part2):\n",
        "        super(FullResNet, self).__init__()\n",
        "        # Store each part as a submodule\n",
        "        self.model_part1 = model_part1\n",
        "        self.model_layer2 = model_layer2\n",
        "        self.model_layer3 = model_layer3\n",
        "        self.model_layer4 = model_layer4\n",
        "        self.model_part2 = model_part2\n",
        "\n",
        "    def forward(self, x):\n",
        "        # Pass the input through each part sequentially\n",
        "        x = self.model_part1(x)    # Initial ResNet layers\n",
        "        x = self.model_layer2(x)   # Custom block layer 2\n",
        "        x = self.model_layer3(x)   # Custom block layer 3\n",
        "        x = self.model_layer4(x)   # Custom block layer 4\n",
        "        x = self.model_part2(x)    # Final ResNet layers\n",
        "        return x"
      ]
    },
    {
      "cell_type": "code",
      "execution_count": 11,
      "metadata": {
        "id": "v1VZpcFnbigw"
      },
      "outputs": [],
      "source": [
        "model_part1 = ResNet_Part1()\n",
        "model_layer2 = CustomBlock(64, 128)\n",
        "model_layer3 = CustomBlock(128, 256)\n",
        "model_layer4 = CustomBlock(256, 512)\n",
        "model_part2 = ResNet_Part2()\n",
        "\n",
        "model = FullResNet(model_part1, model_layer2, model_layer3, model_layer4, model_part2)"
      ]
    },
    {
      "cell_type": "code",
      "execution_count": 12,
      "metadata": {
        "id": "1jPgza41BhWA"
      },
      "outputs": [],
      "source": [
        "model = model.to(device)"
      ]
    },
    {
      "cell_type": "code",
      "execution_count": 13,
      "metadata": {
        "colab": {
          "base_uri": "https://localhost:8080/"
        },
        "id": "dUbxW8Cg4KyZ",
        "outputId": "517660ef-0e50-4490-a284-94ec5fb810fc"
      },
      "outputs": [
        {
          "name": "stdout",
          "output_type": "stream",
          "text": [
            " FullResNet(\n",
            "  (model_part1): ResNet_Part1(\n",
            "    (conv1): Conv2d(3, 64, kernel_size=(7, 7), stride=(2, 2), padding=(3, 3), bias=False)\n",
            "    (bn1): GroupNorm(32, 64, eps=1e-05, affine=True)\n",
            "    (relu): ReLU(inplace=True)\n",
            "    (maxpool): MaxPool2d(kernel_size=3, stride=2, padding=1, dilation=1, ceil_mode=False)\n",
            "    (layer1): Sequential(\n",
            "      (0): Conv2d(64, 64, kernel_size=(3, 3), stride=(1, 1), padding=(1, 1), bias=False)\n",
            "      (1): GroupNorm(2, 64, eps=1e-05, affine=True)\n",
            "      (2): Conv2d(64, 64, kernel_size=(3, 3), stride=(1, 1), padding=(1, 1), bias=False)\n",
            "      (3): GroupNorm(2, 64, eps=1e-05, affine=True)\n",
            "      (4): Conv2d(64, 64, kernel_size=(3, 3), stride=(1, 1), padding=(1, 1), bias=False)\n",
            "      (5): GroupNorm(2, 64, eps=1e-05, affine=True)\n",
            "      (6): Conv2d(64, 64, kernel_size=(3, 3), stride=(1, 1), padding=(1, 1), bias=False)\n",
            "      (7): GroupNorm(2, 64, eps=1e-05, affine=True)\n",
            "    )\n",
            "  )\n",
            "  (model_layer2): CustomBlock(\n",
            "    (conv1): Conv2d(64, 128, kernel_size=(3, 3), stride=(2, 2), padding=(1, 1), bias=False)\n",
            "    (relu): ReLU(inplace=True)\n",
            "    (conv2): Conv2d(128, 128, kernel_size=(3, 3), stride=(1, 1), padding=(1, 1), bias=False)\n",
            "    (gn2): GroupNorm(2, 128, eps=1e-05, affine=True)\n",
            "    (downsample): Sequential(\n",
            "      (0): Conv2d(64, 128, kernel_size=(1, 1), stride=(2, 2), bias=False)\n",
            "      (1): GroupNorm(32, 128, eps=1e-05, affine=True)\n",
            "    )\n",
            "  )\n",
            "  (model_layer3): CustomBlock(\n",
            "    (conv1): Conv2d(128, 256, kernel_size=(3, 3), stride=(2, 2), padding=(1, 1), bias=False)\n",
            "    (relu): ReLU(inplace=True)\n",
            "    (conv2): Conv2d(256, 256, kernel_size=(3, 3), stride=(1, 1), padding=(1, 1), bias=False)\n",
            "    (gn2): GroupNorm(2, 256, eps=1e-05, affine=True)\n",
            "    (downsample): Sequential(\n",
            "      (0): Conv2d(128, 256, kernel_size=(1, 1), stride=(2, 2), bias=False)\n",
            "      (1): GroupNorm(32, 256, eps=1e-05, affine=True)\n",
            "    )\n",
            "  )\n",
            "  (model_layer4): CustomBlock(\n",
            "    (conv1): Conv2d(256, 512, kernel_size=(3, 3), stride=(2, 2), padding=(1, 1), bias=False)\n",
            "    (relu): ReLU(inplace=True)\n",
            "    (conv2): Conv2d(512, 512, kernel_size=(3, 3), stride=(1, 1), padding=(1, 1), bias=False)\n",
            "    (gn2): GroupNorm(2, 512, eps=1e-05, affine=True)\n",
            "    (downsample): Sequential(\n",
            "      (0): Conv2d(256, 512, kernel_size=(1, 1), stride=(2, 2), bias=False)\n",
            "      (1): GroupNorm(32, 512, eps=1e-05, affine=True)\n",
            "    )\n",
            "  )\n",
            "  (model_part2): ResNet_Part2(\n",
            "    (avgpool): AdaptiveAvgPool2d(output_size=(1, 1))\n",
            "    (fc): Linear(in_features=512, out_features=9, bias=True)\n",
            "  )\n",
            ")\n",
            "model_part1 ResNet_Part1(\n",
            "  (conv1): Conv2d(3, 64, kernel_size=(7, 7), stride=(2, 2), padding=(3, 3), bias=False)\n",
            "  (bn1): GroupNorm(32, 64, eps=1e-05, affine=True)\n",
            "  (relu): ReLU(inplace=True)\n",
            "  (maxpool): MaxPool2d(kernel_size=3, stride=2, padding=1, dilation=1, ceil_mode=False)\n",
            "  (layer1): Sequential(\n",
            "    (0): Conv2d(64, 64, kernel_size=(3, 3), stride=(1, 1), padding=(1, 1), bias=False)\n",
            "    (1): GroupNorm(2, 64, eps=1e-05, affine=True)\n",
            "    (2): Conv2d(64, 64, kernel_size=(3, 3), stride=(1, 1), padding=(1, 1), bias=False)\n",
            "    (3): GroupNorm(2, 64, eps=1e-05, affine=True)\n",
            "    (4): Conv2d(64, 64, kernel_size=(3, 3), stride=(1, 1), padding=(1, 1), bias=False)\n",
            "    (5): GroupNorm(2, 64, eps=1e-05, affine=True)\n",
            "    (6): Conv2d(64, 64, kernel_size=(3, 3), stride=(1, 1), padding=(1, 1), bias=False)\n",
            "    (7): GroupNorm(2, 64, eps=1e-05, affine=True)\n",
            "  )\n",
            ")\n",
            "model_part1.conv1 Conv2d(3, 64, kernel_size=(7, 7), stride=(2, 2), padding=(3, 3), bias=False)\n",
            "model_part1.bn1 GroupNorm(32, 64, eps=1e-05, affine=True)\n",
            "model_part1.relu ReLU(inplace=True)\n",
            "model_part1.maxpool MaxPool2d(kernel_size=3, stride=2, padding=1, dilation=1, ceil_mode=False)\n",
            "model_part1.layer1 Sequential(\n",
            "  (0): Conv2d(64, 64, kernel_size=(3, 3), stride=(1, 1), padding=(1, 1), bias=False)\n",
            "  (1): GroupNorm(2, 64, eps=1e-05, affine=True)\n",
            "  (2): Conv2d(64, 64, kernel_size=(3, 3), stride=(1, 1), padding=(1, 1), bias=False)\n",
            "  (3): GroupNorm(2, 64, eps=1e-05, affine=True)\n",
            "  (4): Conv2d(64, 64, kernel_size=(3, 3), stride=(1, 1), padding=(1, 1), bias=False)\n",
            "  (5): GroupNorm(2, 64, eps=1e-05, affine=True)\n",
            "  (6): Conv2d(64, 64, kernel_size=(3, 3), stride=(1, 1), padding=(1, 1), bias=False)\n",
            "  (7): GroupNorm(2, 64, eps=1e-05, affine=True)\n",
            ")\n",
            "model_part1.layer1.0 Conv2d(64, 64, kernel_size=(3, 3), stride=(1, 1), padding=(1, 1), bias=False)\n",
            "model_part1.layer1.1 GroupNorm(2, 64, eps=1e-05, affine=True)\n",
            "model_part1.layer1.2 Conv2d(64, 64, kernel_size=(3, 3), stride=(1, 1), padding=(1, 1), bias=False)\n",
            "model_part1.layer1.3 GroupNorm(2, 64, eps=1e-05, affine=True)\n",
            "model_part1.layer1.4 Conv2d(64, 64, kernel_size=(3, 3), stride=(1, 1), padding=(1, 1), bias=False)\n",
            "model_part1.layer1.5 GroupNorm(2, 64, eps=1e-05, affine=True)\n",
            "model_part1.layer1.6 Conv2d(64, 64, kernel_size=(3, 3), stride=(1, 1), padding=(1, 1), bias=False)\n",
            "model_part1.layer1.7 GroupNorm(2, 64, eps=1e-05, affine=True)\n",
            "model_layer2 CustomBlock(\n",
            "  (conv1): Conv2d(64, 128, kernel_size=(3, 3), stride=(2, 2), padding=(1, 1), bias=False)\n",
            "  (relu): ReLU(inplace=True)\n",
            "  (conv2): Conv2d(128, 128, kernel_size=(3, 3), stride=(1, 1), padding=(1, 1), bias=False)\n",
            "  (gn2): GroupNorm(2, 128, eps=1e-05, affine=True)\n",
            "  (downsample): Sequential(\n",
            "    (0): Conv2d(64, 128, kernel_size=(1, 1), stride=(2, 2), bias=False)\n",
            "    (1): GroupNorm(32, 128, eps=1e-05, affine=True)\n",
            "  )\n",
            ")\n",
            "model_layer2.conv1 Conv2d(64, 128, kernel_size=(3, 3), stride=(2, 2), padding=(1, 1), bias=False)\n",
            "model_layer2.relu ReLU(inplace=True)\n",
            "model_layer2.conv2 Conv2d(128, 128, kernel_size=(3, 3), stride=(1, 1), padding=(1, 1), bias=False)\n",
            "model_layer2.gn2 GroupNorm(2, 128, eps=1e-05, affine=True)\n",
            "model_layer2.downsample Sequential(\n",
            "  (0): Conv2d(64, 128, kernel_size=(1, 1), stride=(2, 2), bias=False)\n",
            "  (1): GroupNorm(32, 128, eps=1e-05, affine=True)\n",
            ")\n",
            "model_layer2.downsample.0 Conv2d(64, 128, kernel_size=(1, 1), stride=(2, 2), bias=False)\n",
            "model_layer2.downsample.1 GroupNorm(32, 128, eps=1e-05, affine=True)\n",
            "model_layer3 CustomBlock(\n",
            "  (conv1): Conv2d(128, 256, kernel_size=(3, 3), stride=(2, 2), padding=(1, 1), bias=False)\n",
            "  (relu): ReLU(inplace=True)\n",
            "  (conv2): Conv2d(256, 256, kernel_size=(3, 3), stride=(1, 1), padding=(1, 1), bias=False)\n",
            "  (gn2): GroupNorm(2, 256, eps=1e-05, affine=True)\n",
            "  (downsample): Sequential(\n",
            "    (0): Conv2d(128, 256, kernel_size=(1, 1), stride=(2, 2), bias=False)\n",
            "    (1): GroupNorm(32, 256, eps=1e-05, affine=True)\n",
            "  )\n",
            ")\n",
            "model_layer3.conv1 Conv2d(128, 256, kernel_size=(3, 3), stride=(2, 2), padding=(1, 1), bias=False)\n",
            "model_layer3.relu ReLU(inplace=True)\n",
            "model_layer3.conv2 Conv2d(256, 256, kernel_size=(3, 3), stride=(1, 1), padding=(1, 1), bias=False)\n",
            "model_layer3.gn2 GroupNorm(2, 256, eps=1e-05, affine=True)\n",
            "model_layer3.downsample Sequential(\n",
            "  (0): Conv2d(128, 256, kernel_size=(1, 1), stride=(2, 2), bias=False)\n",
            "  (1): GroupNorm(32, 256, eps=1e-05, affine=True)\n",
            ")\n",
            "model_layer3.downsample.0 Conv2d(128, 256, kernel_size=(1, 1), stride=(2, 2), bias=False)\n",
            "model_layer3.downsample.1 GroupNorm(32, 256, eps=1e-05, affine=True)\n",
            "model_layer4 CustomBlock(\n",
            "  (conv1): Conv2d(256, 512, kernel_size=(3, 3), stride=(2, 2), padding=(1, 1), bias=False)\n",
            "  (relu): ReLU(inplace=True)\n",
            "  (conv2): Conv2d(512, 512, kernel_size=(3, 3), stride=(1, 1), padding=(1, 1), bias=False)\n",
            "  (gn2): GroupNorm(2, 512, eps=1e-05, affine=True)\n",
            "  (downsample): Sequential(\n",
            "    (0): Conv2d(256, 512, kernel_size=(1, 1), stride=(2, 2), bias=False)\n",
            "    (1): GroupNorm(32, 512, eps=1e-05, affine=True)\n",
            "  )\n",
            ")\n",
            "model_layer4.conv1 Conv2d(256, 512, kernel_size=(3, 3), stride=(2, 2), padding=(1, 1), bias=False)\n",
            "model_layer4.relu ReLU(inplace=True)\n",
            "model_layer4.conv2 Conv2d(512, 512, kernel_size=(3, 3), stride=(1, 1), padding=(1, 1), bias=False)\n",
            "model_layer4.gn2 GroupNorm(2, 512, eps=1e-05, affine=True)\n",
            "model_layer4.downsample Sequential(\n",
            "  (0): Conv2d(256, 512, kernel_size=(1, 1), stride=(2, 2), bias=False)\n",
            "  (1): GroupNorm(32, 512, eps=1e-05, affine=True)\n",
            ")\n",
            "model_layer4.downsample.0 Conv2d(256, 512, kernel_size=(1, 1), stride=(2, 2), bias=False)\n",
            "model_layer4.downsample.1 GroupNorm(32, 512, eps=1e-05, affine=True)\n",
            "model_part2 ResNet_Part2(\n",
            "  (avgpool): AdaptiveAvgPool2d(output_size=(1, 1))\n",
            "  (fc): Linear(in_features=512, out_features=9, bias=True)\n",
            ")\n",
            "model_part2.avgpool AdaptiveAvgPool2d(output_size=(1, 1))\n",
            "model_part2.fc Linear(in_features=512, out_features=9, bias=True)\n"
          ]
        }
      ],
      "source": [
        "for name, module in model.named_modules():\n",
        "    print(name, module)"
      ]
    },
    {
      "cell_type": "code",
      "execution_count": 13,
      "metadata": {
        "id": "WnCHHmlqBV0m"
      },
      "outputs": [],
      "source": []
    },
    {
      "cell_type": "code",
      "execution_count": 14,
      "metadata": {
        "id": "duFjbXRh3JNs"
      },
      "outputs": [],
      "source": [
        "opt = SGD(model.parameters(),lr = 1e-3)\n",
        "criterion = nn.CrossEntropyLoss()"
      ]
    },
    {
      "cell_type": "code",
      "execution_count": 15,
      "metadata": {
        "id": "ye6BgkMDUjEI"
      },
      "outputs": [],
      "source": [
        "BATCH_SIZE = 512\n",
        "MAX_PHYSICAL_BATCH_SIZE = 128"
      ]
    },
    {
      "cell_type": "code",
      "execution_count": 18,
      "metadata": {
        "id": "HqoWIfrQSo83"
      },
      "outputs": [],
      "source": [
        "import warnings\n",
        "warnings.simplefilter(\"ignore\")\n",
        "\n",
        "MAX_GRAD_NORM = 4\n",
        "EPSILON = 4\n",
        "DELTA = 1e-5\n",
        "EPOCHS = 50\n",
        "\n",
        "LR = 1e-3"
      ]
    },
    {
      "cell_type": "code",
      "execution_count": 17,
      "metadata": {
        "colab": {
          "base_uri": "https://localhost:8080/"
        },
        "id": "1qMeTf7OkER3",
        "outputId": "69b301fe-06ce-4521-8401-1870ead6a0b5"
      },
      "outputs": [
        {
          "name": "stdout",
          "output_type": "stream",
          "text": [
            "Collecting opacus\n",
            "  Downloading opacus-1.5.2-py3-none-any.whl.metadata (7.9 kB)\n",
            "Requirement already satisfied: numpy<2.0,>=1.15 in /usr/local/lib/python3.10/dist-packages (from opacus) (1.26.4)\n",
            "Requirement already satisfied: torch>=2.0 in /usr/local/lib/python3.10/dist-packages (from opacus) (2.5.1+cu121)\n",
            "Requirement already satisfied: scipy>=1.2 in /usr/local/lib/python3.10/dist-packages (from opacus) (1.13.1)\n",
            "Requirement already satisfied: opt-einsum>=3.3.0 in /usr/local/lib/python3.10/dist-packages (from opacus) (3.4.0)\n",
            "Requirement already satisfied: filelock in /usr/local/lib/python3.10/dist-packages (from torch>=2.0->opacus) (3.16.1)\n",
            "Requirement already satisfied: typing-extensions>=4.8.0 in /usr/local/lib/python3.10/dist-packages (from torch>=2.0->opacus) (4.12.2)\n",
            "Requirement already satisfied: networkx in /usr/local/lib/python3.10/dist-packages (from torch>=2.0->opacus) (3.4.2)\n",
            "Requirement already satisfied: jinja2 in /usr/local/lib/python3.10/dist-packages (from torch>=2.0->opacus) (3.1.4)\n",
            "Requirement already satisfied: fsspec in /usr/local/lib/python3.10/dist-packages (from torch>=2.0->opacus) (2024.10.0)\n",
            "Requirement already satisfied: sympy==1.13.1 in /usr/local/lib/python3.10/dist-packages (from torch>=2.0->opacus) (1.13.1)\n",
            "Requirement already satisfied: mpmath<1.4,>=1.1.0 in /usr/local/lib/python3.10/dist-packages (from sympy==1.13.1->torch>=2.0->opacus) (1.3.0)\n",
            "Requirement already satisfied: MarkupSafe>=2.0 in /usr/local/lib/python3.10/dist-packages (from jinja2->torch>=2.0->opacus) (3.0.2)\n",
            "Downloading opacus-1.5.2-py3-none-any.whl (239 kB)\n",
            "\u001b[2K   \u001b[90m━━━━━━━━━━━━━━━━━━━━━━━━━━━━━━━━━━━━━━━━\u001b[0m \u001b[32m239.9/239.9 kB\u001b[0m \u001b[31m8.1 MB/s\u001b[0m eta \u001b[36m0:00:00\u001b[0m\n",
            "\u001b[?25hInstalling collected packages: opacus\n",
            "Successfully installed opacus-1.5.2\n"
          ]
        }
      ],
      "source": [
        "!pip install opacus"
      ]
    },
    {
      "cell_type": "code",
      "execution_count": 19,
      "metadata": {
        "id": "b9yP7oHXh1xf"
      },
      "outputs": [],
      "source": [
        "from opacus import PrivacyEngine\n",
        "\n",
        "privacy_engine = PrivacyEngine()\n",
        "\n",
        "priv_model, priv_optimizer, priv_train_loader = privacy_engine.make_private_with_epsilon(\n",
        "    module=model,\n",
        "    optimizer=opt,\n",
        "    data_loader=train_dl,\n",
        "    epochs=EPOCHS,\n",
        "    target_epsilon=EPSILON,\n",
        "    target_delta=DELTA,\n",
        "    max_grad_norm=MAX_GRAD_NORM,\n",
        ")\n",
        "\n"
      ]
    },
    {
      "cell_type": "code",
      "execution_count": 20,
      "metadata": {
        "colab": {
          "base_uri": "https://localhost:8080/"
        },
        "id": "72V6KwvckrSy",
        "outputId": "d350641c-5f20-46cf-9573-025099d86d14"
      },
      "outputs": [
        {
          "name": "stdout",
          "output_type": "stream",
          "text": [
            "Using sigma=0.872802734375 and C=4\n"
          ]
        }
      ],
      "source": [
        "print(f\"Using sigma={priv_optimizer.noise_multiplier} and C={MAX_GRAD_NORM}\")"
      ]
    },
    {
      "cell_type": "code",
      "execution_count": 21,
      "metadata": {
        "id": "nvflXZWA74tQ"
      },
      "outputs": [],
      "source": [
        "def accuracy(preds, labels):\n",
        "    return (preds == labels).mean()"
      ]
    },
    {
      "cell_type": "code",
      "execution_count": 24,
      "metadata": {
        "id": "B27aFGQgUYrt"
      },
      "outputs": [],
      "source": [
        "import numpy as np\n",
        "from opacus.utils.batch_memory_manager import BatchMemoryManager\n",
        "\n",
        "def train(model, train_loader, optimizer, epoch, device):\n",
        "    model.train()\n",
        "    criterion = nn.CrossEntropyLoss()\n",
        "\n",
        "    losses = []\n",
        "    top1_acc = []\n",
        "\n",
        "    with BatchMemoryManager(\n",
        "        data_loader=train_loader,\n",
        "        max_physical_batch_size=MAX_PHYSICAL_BATCH_SIZE,\n",
        "        optimizer=optimizer\n",
        "    ) as memory_safe_data_loader:\n",
        "      for i, (images, target) in enumerate(memory_safe_data_loader):\n",
        "          optimizer.zero_grad()\n",
        "          images = images.to(device)\n",
        "          target = target.to(device)\n",
        "\n",
        "          # compute output\n",
        "          output = model(images)\n",
        "          loss = criterion(output, target)\n",
        "\n",
        "          preds = np.argmax(output.detach().cpu().numpy(), axis=1)\n",
        "          labels = target.detach().cpu().numpy()\n",
        "\n",
        "          # measure accuracy and record loss\n",
        "          acc = accuracy(preds, labels)\n",
        "\n",
        "          losses.append(loss.item())\n",
        "          top1_acc.append(acc)\n",
        "\n",
        "          loss.backward()\n",
        "          optimizer.step()\n",
        "      print(\n",
        "                  f\"\\tTrain Epoch: {epoch} \\t\"\n",
        "                  f\"Loss: {np.mean(losses):.6f} \"\n",
        "                  f\"Acc@1: {np.mean(top1_acc) * 100:.6f} \"\n",
        "              )"
      ]
    },
    {
      "cell_type": "code",
      "execution_count": 25,
      "metadata": {
        "id": "zHMURB_tUb8-"
      },
      "outputs": [],
      "source": [
        "def test(model, test_loader, device):\n",
        "    model.eval()\n",
        "    criterion = nn.CrossEntropyLoss()\n",
        "    losses = []\n",
        "    top1_acc = []\n",
        "\n",
        "    with torch.no_grad():\n",
        "        for images, target in test_loader:\n",
        "            images = images.to(device)\n",
        "            target = target.to(device)\n",
        "\n",
        "            output = model(images)\n",
        "            loss = criterion(output, target)\n",
        "            preds = np.argmax(output.detach().cpu().numpy(), axis=1)\n",
        "            labels = target.detach().cpu().numpy()\n",
        "            acc = accuracy(preds, labels)\n",
        "\n",
        "            losses.append(loss.item())\n",
        "            top1_acc.append(acc)\n",
        "\n",
        "    top1_avg = np.mean(top1_acc)\n",
        "\n",
        "    print(\n",
        "        f\"\\tTest set:\"\n",
        "        f\"Loss: {np.mean(losses):.6f} \"\n",
        "        f\"Acc: {top1_avg * 100:.6f} \"\n",
        "    )\n",
        "    return np.mean(top1_acc)"
      ]
    },
    {
      "cell_type": "code",
      "execution_count": 26,
      "metadata": {
        "colab": {
          "base_uri": "https://localhost:8080/",
          "height": 899,
          "referenced_widgets": [
            "c41ca43f08474f1f9563f47958246c3d",
            "a660f8e8dbd74d6aaee8584952490de0",
            "277595d57b664fdba5134b29317e3be4",
            "f5bd83b3a810461dad3181be883623ae",
            "74ffc819a6374873a99fa2955f5d6cfd",
            "85b9e8b5edb743f5a4a31325ab2c1fb3",
            "d9a330f30e0f4dd5b71fd6e30ab9fabd",
            "caf1b28c43964f968e35cb6b903d7173",
            "d20b26d27af942fd80987106d2bda5e6",
            "4b95e907038b4318972a0098ad8aa4a0",
            "7c1d16dcccb142cf94d7a84457f75a46"
          ]
        },
        "id": "R1QXYpizUrN4",
        "outputId": "2410e024-e0e7-4333-e84c-00e84cc4c4b9"
      },
      "outputs": [
        {
          "data": {
            "application/vnd.jupyter.widget-view+json": {
              "model_id": "c41ca43f08474f1f9563f47958246c3d",
              "version_major": 2,
              "version_minor": 0
            },
            "text/plain": [
              "Epoch:   0%|          | 0/50 [00:00<?, ?epoch/s]"
            ]
          },
          "metadata": {},
          "output_type": "display_data"
        },
        {
          "name": "stdout",
          "output_type": "stream",
          "text": [
            "\tTrain Epoch: 1 \tLoss: 2.103053 Acc@1: 21.253479 \n",
            "\tTrain Epoch: 2 \tLoss: 1.922962 Acc@1: 27.560778 \n",
            "\tTrain Epoch: 3 \tLoss: 1.826301 Acc@1: 33.025859 \n",
            "\tTrain Epoch: 4 \tLoss: 1.755302 Acc@1: 36.951538 \n",
            "\tTrain Epoch: 5 \tLoss: 1.691399 Acc@1: 39.698600 \n",
            "\tTrain Epoch: 6 \tLoss: 1.641146 Acc@1: 41.282930 \n",
            "\tTrain Epoch: 7 \tLoss: 1.599490 Acc@1: 42.410315 \n",
            "\tTrain Epoch: 8 \tLoss: 1.565543 Acc@1: 43.477714 \n",
            "\tTrain Epoch: 9 \tLoss: 1.533025 Acc@1: 44.560737 \n",
            "\tTrain Epoch: 10 \tLoss: 1.505092 Acc@1: 45.595451 \n",
            "\tTrain Epoch: 11 \tLoss: 1.498564 Acc@1: 45.630179 \n",
            "\tTrain Epoch: 12 \tLoss: 1.487338 Acc@1: 46.155791 \n",
            "\tTrain Epoch: 13 \tLoss: 1.479080 Acc@1: 46.677015 \n",
            "\tTrain Epoch: 14 \tLoss: 1.468608 Acc@1: 47.302790 \n",
            "\tTrain Epoch: 15 \tLoss: 1.467536 Acc@1: 47.532790 \n",
            "\tTrain Epoch: 16 \tLoss: 1.460467 Acc@1: 47.910629 \n",
            "\tTrain Epoch: 17 \tLoss: 1.451508 Acc@1: 48.519129 \n",
            "\tTrain Epoch: 18 \tLoss: 1.436533 Acc@1: 48.997014 \n",
            "\tTrain Epoch: 19 \tLoss: 1.437278 Acc@1: 49.125966 \n",
            "\tTrain Epoch: 20 \tLoss: 1.424461 Acc@1: 49.836390 \n",
            "\tTrain Epoch: 21 \tLoss: 1.413728 Acc@1: 50.120919 \n",
            "\tTrain Epoch: 22 \tLoss: 1.414653 Acc@1: 50.338974 \n",
            "\tTrain Epoch: 23 \tLoss: 1.412229 Acc@1: 50.693119 \n",
            "\tTrain Epoch: 24 \tLoss: 1.401217 Acc@1: 50.952113 \n",
            "\tTrain Epoch: 25 \tLoss: 1.404767 Acc@1: 51.124460 \n",
            "\tTrain Epoch: 26 \tLoss: 1.399622 Acc@1: 51.182682 \n",
            "\tTrain Epoch: 27 \tLoss: 1.400722 Acc@1: 51.683393 \n",
            "\tTrain Epoch: 28 \tLoss: 1.387783 Acc@1: 51.804026 \n",
            "\tTrain Epoch: 29 \tLoss: 1.396193 Acc@1: 51.879217 \n",
            "\tTrain Epoch: 30 \tLoss: 1.394657 Acc@1: 51.852633 \n",
            "\tTrain Epoch: 31 \tLoss: 1.390772 Acc@1: 52.470324 \n",
            "\tTrain Epoch: 32 \tLoss: 1.392818 Acc@1: 52.646316 \n",
            "\tTrain Epoch: 33 \tLoss: 1.395513 Acc@1: 52.720289 \n",
            "\tTrain Epoch: 34 \tLoss: 1.399364 Acc@1: 52.650698 \n",
            "\tTrain Epoch: 35 \tLoss: 1.391786 Acc@1: 53.056696 \n",
            "\tTrain Epoch: 36 \tLoss: 1.390605 Acc@1: 53.304875 \n",
            "\tTrain Epoch: 37 \tLoss: 1.397935 Acc@1: 53.421462 \n",
            "\tTrain Epoch: 38 \tLoss: 1.402772 Acc@1: 53.581663 \n",
            "\tTrain Epoch: 39 \tLoss: 1.407901 Acc@1: 53.440298 \n",
            "\tTrain Epoch: 40 \tLoss: 1.403603 Acc@1: 53.707509 \n",
            "\tTrain Epoch: 41 \tLoss: 1.396799 Acc@1: 54.082462 \n",
            "\tTrain Epoch: 42 \tLoss: 1.397800 Acc@1: 54.236219 \n",
            "\tTrain Epoch: 43 \tLoss: 1.407602 Acc@1: 54.271733 \n",
            "\tTrain Epoch: 44 \tLoss: 1.391557 Acc@1: 54.674883 \n",
            "\tTrain Epoch: 45 \tLoss: 1.413135 Acc@1: 54.399428 \n",
            "\tTrain Epoch: 46 \tLoss: 1.415723 Acc@1: 54.386112 \n",
            "\tTrain Epoch: 47 \tLoss: 1.409935 Acc@1: 54.671587 \n",
            "\tTrain Epoch: 48 \tLoss: 1.403876 Acc@1: 54.978138 \n",
            "\tTrain Epoch: 49 \tLoss: 1.409914 Acc@1: 54.880244 \n",
            "\tTrain Epoch: 50 \tLoss: 1.417495 Acc@1: 54.971471 \n"
          ]
        }
      ],
      "source": [
        "from tqdm.notebook import tqdm\n",
        "\n",
        "for epoch in tqdm(range(EPOCHS), desc=\"Epoch\", unit=\"epoch\"):\n",
        "    train(priv_model, priv_train_loader, priv_optimizer, epoch + 1, device)"
      ]
    },
    {
      "cell_type": "code",
      "execution_count": 27,
      "metadata": {
        "id": "LBddUUs5mfTE"
      },
      "outputs": [],
      "source": [
        "torch.save(model.state_dict(),\"only_opacus.pt\")"
      ]
    },
    {
      "cell_type": "code",
      "execution_count": 29,
      "metadata": {
        "colab": {
          "base_uri": "https://localhost:8080/"
        },
        "id": "lwgK6skY6kR3",
        "outputId": "a0869354-b2b1-4cb3-d8eb-0ad3be783a28"
      },
      "outputs": [
        {
          "name": "stdout",
          "output_type": "stream",
          "text": [
            "\tTest set:Loss: 1.214539 Acc: 61.736111 \n"
          ]
        },
        {
          "data": {
            "text/plain": [
              "0.617361111111111"
            ]
          },
          "execution_count": 29,
          "metadata": {},
          "output_type": "execute_result"
        }
      ],
      "source": [
        "test(priv_model,test_dl,\"cuda\")"
      ]
    },
    {
      "cell_type": "code",
      "execution_count": null,
      "metadata": {
        "id": "Aj9fLyEi7Cmx"
      },
      "outputs": [],
      "source": []
    }
  ],
  "metadata": {
    "accelerator": "GPU",
    "colab": {
      "gpuType": "T4",
      "provenance": []
    },
    "kernelspec": {
      "display_name": "Python 3",
      "name": "python3"
    },
    "language_info": {
      "name": "python"
    },
    "widgets": {
      "application/vnd.jupyter.widget-state+json": {
        "277595d57b664fdba5134b29317e3be4": {
          "model_module": "@jupyter-widgets/controls",
          "model_module_version": "1.5.0",
          "model_name": "FloatProgressModel",
          "state": {
            "_dom_classes": [],
            "_model_module": "@jupyter-widgets/controls",
            "_model_module_version": "1.5.0",
            "_model_name": "FloatProgressModel",
            "_view_count": null,
            "_view_module": "@jupyter-widgets/controls",
            "_view_module_version": "1.5.0",
            "_view_name": "ProgressView",
            "bar_style": "success",
            "description": "",
            "description_tooltip": null,
            "layout": "IPY_MODEL_caf1b28c43964f968e35cb6b903d7173",
            "max": 50,
            "min": 0,
            "orientation": "horizontal",
            "style": "IPY_MODEL_d20b26d27af942fd80987106d2bda5e6",
            "value": 50
          }
        },
        "4b95e907038b4318972a0098ad8aa4a0": {
          "model_module": "@jupyter-widgets/base",
          "model_module_version": "1.2.0",
          "model_name": "LayoutModel",
          "state": {
            "_model_module": "@jupyter-widgets/base",
            "_model_module_version": "1.2.0",
            "_model_name": "LayoutModel",
            "_view_count": null,
            "_view_module": "@jupyter-widgets/base",
            "_view_module_version": "1.2.0",
            "_view_name": "LayoutView",
            "align_content": null,
            "align_items": null,
            "align_self": null,
            "border": null,
            "bottom": null,
            "display": null,
            "flex": null,
            "flex_flow": null,
            "grid_area": null,
            "grid_auto_columns": null,
            "grid_auto_flow": null,
            "grid_auto_rows": null,
            "grid_column": null,
            "grid_gap": null,
            "grid_row": null,
            "grid_template_areas": null,
            "grid_template_columns": null,
            "grid_template_rows": null,
            "height": null,
            "justify_content": null,
            "justify_items": null,
            "left": null,
            "margin": null,
            "max_height": null,
            "max_width": null,
            "min_height": null,
            "min_width": null,
            "object_fit": null,
            "object_position": null,
            "order": null,
            "overflow": null,
            "overflow_x": null,
            "overflow_y": null,
            "padding": null,
            "right": null,
            "top": null,
            "visibility": null,
            "width": null
          }
        },
        "74ffc819a6374873a99fa2955f5d6cfd": {
          "model_module": "@jupyter-widgets/base",
          "model_module_version": "1.2.0",
          "model_name": "LayoutModel",
          "state": {
            "_model_module": "@jupyter-widgets/base",
            "_model_module_version": "1.2.0",
            "_model_name": "LayoutModel",
            "_view_count": null,
            "_view_module": "@jupyter-widgets/base",
            "_view_module_version": "1.2.0",
            "_view_name": "LayoutView",
            "align_content": null,
            "align_items": null,
            "align_self": null,
            "border": null,
            "bottom": null,
            "display": null,
            "flex": null,
            "flex_flow": null,
            "grid_area": null,
            "grid_auto_columns": null,
            "grid_auto_flow": null,
            "grid_auto_rows": null,
            "grid_column": null,
            "grid_gap": null,
            "grid_row": null,
            "grid_template_areas": null,
            "grid_template_columns": null,
            "grid_template_rows": null,
            "height": null,
            "justify_content": null,
            "justify_items": null,
            "left": null,
            "margin": null,
            "max_height": null,
            "max_width": null,
            "min_height": null,
            "min_width": null,
            "object_fit": null,
            "object_position": null,
            "order": null,
            "overflow": null,
            "overflow_x": null,
            "overflow_y": null,
            "padding": null,
            "right": null,
            "top": null,
            "visibility": null,
            "width": null
          }
        },
        "7c1d16dcccb142cf94d7a84457f75a46": {
          "model_module": "@jupyter-widgets/controls",
          "model_module_version": "1.5.0",
          "model_name": "DescriptionStyleModel",
          "state": {
            "_model_module": "@jupyter-widgets/controls",
            "_model_module_version": "1.5.0",
            "_model_name": "DescriptionStyleModel",
            "_view_count": null,
            "_view_module": "@jupyter-widgets/base",
            "_view_module_version": "1.2.0",
            "_view_name": "StyleView",
            "description_width": ""
          }
        },
        "85b9e8b5edb743f5a4a31325ab2c1fb3": {
          "model_module": "@jupyter-widgets/base",
          "model_module_version": "1.2.0",
          "model_name": "LayoutModel",
          "state": {
            "_model_module": "@jupyter-widgets/base",
            "_model_module_version": "1.2.0",
            "_model_name": "LayoutModel",
            "_view_count": null,
            "_view_module": "@jupyter-widgets/base",
            "_view_module_version": "1.2.0",
            "_view_name": "LayoutView",
            "align_content": null,
            "align_items": null,
            "align_self": null,
            "border": null,
            "bottom": null,
            "display": null,
            "flex": null,
            "flex_flow": null,
            "grid_area": null,
            "grid_auto_columns": null,
            "grid_auto_flow": null,
            "grid_auto_rows": null,
            "grid_column": null,
            "grid_gap": null,
            "grid_row": null,
            "grid_template_areas": null,
            "grid_template_columns": null,
            "grid_template_rows": null,
            "height": null,
            "justify_content": null,
            "justify_items": null,
            "left": null,
            "margin": null,
            "max_height": null,
            "max_width": null,
            "min_height": null,
            "min_width": null,
            "object_fit": null,
            "object_position": null,
            "order": null,
            "overflow": null,
            "overflow_x": null,
            "overflow_y": null,
            "padding": null,
            "right": null,
            "top": null,
            "visibility": null,
            "width": null
          }
        },
        "a660f8e8dbd74d6aaee8584952490de0": {
          "model_module": "@jupyter-widgets/controls",
          "model_module_version": "1.5.0",
          "model_name": "HTMLModel",
          "state": {
            "_dom_classes": [],
            "_model_module": "@jupyter-widgets/controls",
            "_model_module_version": "1.5.0",
            "_model_name": "HTMLModel",
            "_view_count": null,
            "_view_module": "@jupyter-widgets/controls",
            "_view_module_version": "1.5.0",
            "_view_name": "HTMLView",
            "description": "",
            "description_tooltip": null,
            "layout": "IPY_MODEL_85b9e8b5edb743f5a4a31325ab2c1fb3",
            "placeholder": "​",
            "style": "IPY_MODEL_d9a330f30e0f4dd5b71fd6e30ab9fabd",
            "value": "Epoch: 100%"
          }
        },
        "c41ca43f08474f1f9563f47958246c3d": {
          "model_module": "@jupyter-widgets/controls",
          "model_module_version": "1.5.0",
          "model_name": "HBoxModel",
          "state": {
            "_dom_classes": [],
            "_model_module": "@jupyter-widgets/controls",
            "_model_module_version": "1.5.0",
            "_model_name": "HBoxModel",
            "_view_count": null,
            "_view_module": "@jupyter-widgets/controls",
            "_view_module_version": "1.5.0",
            "_view_name": "HBoxView",
            "box_style": "",
            "children": [
              "IPY_MODEL_a660f8e8dbd74d6aaee8584952490de0",
              "IPY_MODEL_277595d57b664fdba5134b29317e3be4",
              "IPY_MODEL_f5bd83b3a810461dad3181be883623ae"
            ],
            "layout": "IPY_MODEL_74ffc819a6374873a99fa2955f5d6cfd"
          }
        },
        "caf1b28c43964f968e35cb6b903d7173": {
          "model_module": "@jupyter-widgets/base",
          "model_module_version": "1.2.0",
          "model_name": "LayoutModel",
          "state": {
            "_model_module": "@jupyter-widgets/base",
            "_model_module_version": "1.2.0",
            "_model_name": "LayoutModel",
            "_view_count": null,
            "_view_module": "@jupyter-widgets/base",
            "_view_module_version": "1.2.0",
            "_view_name": "LayoutView",
            "align_content": null,
            "align_items": null,
            "align_self": null,
            "border": null,
            "bottom": null,
            "display": null,
            "flex": null,
            "flex_flow": null,
            "grid_area": null,
            "grid_auto_columns": null,
            "grid_auto_flow": null,
            "grid_auto_rows": null,
            "grid_column": null,
            "grid_gap": null,
            "grid_row": null,
            "grid_template_areas": null,
            "grid_template_columns": null,
            "grid_template_rows": null,
            "height": null,
            "justify_content": null,
            "justify_items": null,
            "left": null,
            "margin": null,
            "max_height": null,
            "max_width": null,
            "min_height": null,
            "min_width": null,
            "object_fit": null,
            "object_position": null,
            "order": null,
            "overflow": null,
            "overflow_x": null,
            "overflow_y": null,
            "padding": null,
            "right": null,
            "top": null,
            "visibility": null,
            "width": null
          }
        },
        "d20b26d27af942fd80987106d2bda5e6": {
          "model_module": "@jupyter-widgets/controls",
          "model_module_version": "1.5.0",
          "model_name": "ProgressStyleModel",
          "state": {
            "_model_module": "@jupyter-widgets/controls",
            "_model_module_version": "1.5.0",
            "_model_name": "ProgressStyleModel",
            "_view_count": null,
            "_view_module": "@jupyter-widgets/base",
            "_view_module_version": "1.2.0",
            "_view_name": "StyleView",
            "bar_color": null,
            "description_width": ""
          }
        },
        "d9a330f30e0f4dd5b71fd6e30ab9fabd": {
          "model_module": "@jupyter-widgets/controls",
          "model_module_version": "1.5.0",
          "model_name": "DescriptionStyleModel",
          "state": {
            "_model_module": "@jupyter-widgets/controls",
            "_model_module_version": "1.5.0",
            "_model_name": "DescriptionStyleModel",
            "_view_count": null,
            "_view_module": "@jupyter-widgets/base",
            "_view_module_version": "1.2.0",
            "_view_name": "StyleView",
            "description_width": ""
          }
        },
        "f5bd83b3a810461dad3181be883623ae": {
          "model_module": "@jupyter-widgets/controls",
          "model_module_version": "1.5.0",
          "model_name": "HTMLModel",
          "state": {
            "_dom_classes": [],
            "_model_module": "@jupyter-widgets/controls",
            "_model_module_version": "1.5.0",
            "_model_name": "HTMLModel",
            "_view_count": null,
            "_view_module": "@jupyter-widgets/controls",
            "_view_module_version": "1.5.0",
            "_view_name": "HTMLView",
            "description": "",
            "description_tooltip": null,
            "layout": "IPY_MODEL_4b95e907038b4318972a0098ad8aa4a0",
            "placeholder": "​",
            "style": "IPY_MODEL_7c1d16dcccb142cf94d7a84457f75a46",
            "value": " 50/50 [1:30:43&lt;00:00, 108.79s/epoch]"
          }
        }
      }
    }
  },
  "nbformat": 4,
  "nbformat_minor": 0
}
